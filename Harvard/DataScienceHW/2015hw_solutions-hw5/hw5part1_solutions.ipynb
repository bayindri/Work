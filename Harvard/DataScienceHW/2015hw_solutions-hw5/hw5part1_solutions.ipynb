{
 "cells": [
  {
   "cell_type": "markdown",
   "metadata": {},
   "source": [
    "# Great Lobster! But awful service :-("
   ]
  },
  {
   "cell_type": "markdown",
   "metadata": {},
   "source": [
    "<img src=\"http://i.onionstatic.com/avclub/5336/19/16x9/960.jpg\" width=640 height=480/>"
   ]
  },
  {
   "cell_type": "markdown",
   "metadata": {},
   "source": [
    "We continue to look at recommendation data this homework, but through a very different angle. Instead of trying to answer the question \"Which restaurant would I like\", we look at more aggregate behavior, trying to learn from different reviewers what exactly a restaurant is good for.\n",
    "\n",
    "In other words, is the food great? Ambiance Bad? Or are both good? Or bad?\n",
    "\n",
    "So we need to figure out if a given review contains information about the food, the ambiance or both, and if it is a positive or negative review. Note that reviews might cover both topics, so we need to do this analysis on the level of single sentences.\n",
    "\n",
    "We do this at the level of individual sentences, in multiple reviews, about a restaurant.\n",
    "\n",
    "<img src=\"setup.jpg\" width=500 height=300/>\n",
    "\n",
    "What you will carry out here might be termed a first salvo in such an analysis. It will be a fairly complete salvo, but we shall point out many points of improvement along the road, should you want to pursue a project of this kind.\n",
    "\n",
    "There are many aspects of the data science process that we will touch on in this homework, and many skills that you will gain some familiarity with.\n",
    "\n",
    "1. We will use Spark to do a good fraction of our data reduction. This mimics the situation at many companies, where Hadoop/Spark and other such technologies are used to reduce \"big\" data from many different sources such as logfiles, customer data, etc into features which are ready for machine learning and statistical modeling.\n",
    "2. We will use simple Natural Language processing techniques to parse sentences, splitting them into nouns and adjectives\n",
    "3. We will use the unsupervised probabilistic clustering algorithm Latent Dirichlet Allocation, or LDA, to extract topics from the nouns in review text.\n",
    "4. We will use Naive Bayes Machine Learning to carry out sentiment analysis using adjectives from the review text. This kind of analysis is usually done with external sentiment annotated corpus's such as SentiWordNet, but we hope the calculations will give you an idea of what is involved.\n",
    "5. We will obtain topic estimation from the LDA and probability estimates for sentences in the review from the above classifier to answer the question: what does this review have to say about topics concerning restaurants\n",
    "6. We will use somewhat bayesian techniques which fall under the nomenclatures \"Hierarchical Model\" and \"Empirical Bayes\" to regularize the above probability estimates.\n",
    "\n",
    "(image from Annie Hall, from http://www.avclub.com/article/learning-about-love-meatballs-gnocchi-lobsters-and-214971)\n",
    "\n",
    "This homework is split into two parts. You are looking at the first part `hw5part1.ipynb`. You can run this part on your own machine using Spark. (It was developed on a Mac with Homebrew installed Spark (`brew install apache-spark`). You can also work on it inside of your Vagrant virtual Machine or on AWS. \n",
    "\n",
    "Part 2 (`hw5part2.ipynb`) does not need Spark. You can save the data at the end of part 1 and use it in part 2. Of-course if you realize you made a mistake, you will need to go back and run Part 1 again.\n",
    "\n",
    "IF YOU WORK ON AWS **SHUT DOWN** THE AWS CLUSTER WHEN YOU STOP WORKING for a few hours on the HW! If you just leave the cluster open and then work some more the next day, you will find yourself in a world of financial pain."
   ]
  },
  {
   "cell_type": "markdown",
   "metadata": {},
   "source": [
    "## This homework is due Thursday, November 19th 2015, at 11:59PM EST."
   ]
  },
  {
   "cell_type": "markdown",
   "metadata": {},
   "source": [
    "We'll grade the last commit you make before the homework deadline. We will be looking for the files `hw5part1.ipynb`, `hw5part2.ipynb`, and `dftouse.csv`.\n",
    "\n",
    "**Start NOW. This is a long homework.** There is a lot to read, and while there are less computations than on HW4, you are mixing several techniques. Start **NOW** especially to make sure you have Spark working! You might have to try Vagrant, AWS etc to get things running! Labs 8, 9, and 10 will help you. In 9, Bayes2.ipynb has a simple exposition of the Gaussian-Gaussian Bayesian model, while Lab 10 has a worked Naive Bayes example."
   ]
  },
  {
   "cell_type": "markdown",
   "metadata": {},
   "source": [
    "# Table of Contents\n",
    "* [Great Lobster! But awful service :-(](#Great-Lobster!-But-awful-service-:-%28)\n",
    "\t* [This homework is due Thursday, November 19th 2015, at 11:59PM EST.](#This-homework-is-due-Thursday,-November-19th-2015,-at-11:59PM-EST.)\n",
    "\t* [Q1. Using Spark and Natural Language Processing to preprocess the data](#Q1.-Using-Spark-and-Natural-Language-Processing-to-preprocess-the-data)\n",
    "\t\t* [Setting Python packages and Spark up](#Setting-Python-packages-and-Spark-up)\n",
    "\t\t* [Reading in the data](#Reading-in-the-data)\n",
    "\t\t* [Sub-sampling the data](#Sub-sampling-the-data)\n",
    "\t\t\t* [1.1 Create a subsampled-dataframe](#1.1-Create-a-subsampled-dataframe)\n",
    "\t\t* [Creating responses](#Creating-responses)\n",
    "\t\t\t* [1.2 Create a `responses` column to classify reviews as positive or negative](#1.2-Create-a-responses-column-to-classify-reviews-as-positive-or-negative)\n",
    "\t\t* [Natural Language processing](#Natural-Language-processing)\n",
    "\t\t\t* [Parsing language](#Parsing-language)\n",
    "\t\t\t* [1.3 Run `get_parts` on the `text` column of the dataframe](#1.3-Run-get_parts-on-the-text-column-of-the-dataframe)\n",
    "\t* [2. Getting the nouns and doing LDA](#2.-Getting-the-nouns-and-doing-LDA)\n",
    "\t\t* [Why LDA on nouns?](#Why-LDA-on-nouns?)\n",
    "\t\t\t* [Creating the vocabulary](#Creating-the-vocabulary)\n",
    "\t\t\t* [2.1 Create a Corpus in bag of words form](#2.1-Create-a-Corpus-in-bag-of-words-form)\n",
    "\t\t* [Unsupervised topic extraction with LDA](#Unsupervised-topic-extraction-with-LDA)\n",
    "\t\t\t* [2.2 Carry out LDA](#2.2-Carry-out-LDA)\n",
    "\t\t\t* [2.3 Interpret the topics you get with LDA](#2.3-Interpret-the-topics-you-get-with-LDA)\n",
    "\t* [3. Supervised sentiment analysis with Naive Bayes](#3.-Supervised-sentiment-analysis-with-Naive-Bayes)\n",
    "\t\t* [Getting the adjectives](#Getting-the-adjectives)\n",
    "\t\t\t* [3.1 Create the vocabulary of adjectives for the Naive Bayes Classifier.](#3.1-Create-the-vocabulary-of-adjectives-for-the-Naive-Bayes-Classifier.)\n",
    "\t\t* [Get the adjective \"features\" and responses, training and test sets](#Get-the-adjective-\"features\"-and-responses,-training-and-test-sets)\n",
    "\t\t\t* [Transforming to Bag-Of-Words representation](#Transforming-to-Bag-Of-Words-representation)\n",
    "\t\t* [Support code to run a Naive Bayes Classifier.](#Support-code-to-run-a-Naive-Bayes-Classifier.)\n",
    "\t\t\t* [3.2 Write a custom score function, log-likelihood](#3.2-Write-a-custom-score-function,-log-likelihood)\n",
    "\t\t\t* [Cross-Validation](#Cross-Validation)\n",
    "\t\t\t* [Calibration of a classifier](#Calibration-of-a-classifier)\n",
    "\t\t\t* [3.3 Write a custom cross-validation loop](#3.3-Write-a-custom-cross-validation-loop)\n",
    "\t\t\t* [3.4 Test time!](#3.4-Test-time!)\n",
    "\t* [4. Putting topics and sentiment analysis together](#4.-Putting-topics-and-sentiment-analysis-together)\n",
    "\t\t* [Naive Bayes Probabilities](#Naive-Bayes-Probabilities)\n",
    "\t\t\t* [4.1 Obtain log-probabilities for the adjectives](#4.1-Obtain-log-probabilities-for-the-adjectives)\n",
    "\t\t\t* [4.2 Write a function to compute the probability that a sentence is positive.](#4.2-Write-a-function-to-compute-the-probability-that-a-sentence-is-positive.)\n",
    "\t\t\t* [Compute the topic for a sentence](#Compute-the-topic-for-a-sentence)\n",
    "\t\t\t* [Create a dataframe with all of this information](#Create-a-dataframe-with-all-of-this-information)\n",
    "\t\t\t* [4.3 Get the stats](#4.3-Get-the-stats)\n"
   ]
  },
  {
   "cell_type": "code",
   "execution_count": 2,
   "metadata": {
    "collapsed": false
   },
   "outputs": [],
   "source": [
    "%matplotlib inline\n",
    "import numpy as np\n",
    "import scipy as sp\n",
    "import matplotlib as mpl\n",
    "import matplotlib.cm as cm\n",
    "import matplotlib.pyplot as plt\n",
    "import pandas as pd\n",
    "pd.set_option('display.width', 500)\n",
    "pd.set_option('display.max_columns', 100)\n",
    "pd.set_option('display.notebook_repr_html', True)\n",
    "import seaborn as sns\n",
    "sns.set_style(\"whitegrid\")\n",
    "sns.set_context(\"poster\")"
   ]
  },
  {
   "cell_type": "markdown",
   "metadata": {},
   "source": [
    "## Q1. Using Spark and Natural Language Processing to preprocess the data"
   ]
  },
  {
   "cell_type": "markdown",
   "metadata": {},
   "source": [
    "In this part of the homework you will use Spark to parse the restaurant reviews and extract nouns and adjectives. We will use this data later to create the topics of the reviews and do a sentiment analysis. \n",
    "\n",
    "You can use Spark here either on your laptop, directly on the mac, on the Vagrant virtual machine on mac or windows, or on AWS. Lab 8 has all the goods, and hopefully you know what to do by now since you have been going to section.\n",
    "\n",
    "NOTE: if you are running into memory problems, try removing calls to `.cache()` in Spark. This will ease some memory pressure, at the cost of taking longer to run.\n",
    "\n",
    "For this part of the homework we will run Spark . You should make sure your virtual machine has at-least 2GB of virtual memory. If you are using AWS, use a medium instance, at the very least."
   ]
  },
  {
   "cell_type": "markdown",
   "metadata": {},
   "source": [
    "### Setting Python packages and Spark up"
   ]
  },
  {
   "cell_type": "markdown",
   "metadata": {},
   "source": [
    "The first thing we have to do is setting up spark. This can be complex, so do this REALLY early on, even if you dont have time to do anything else in the homework early.\n",
    "\n",
    "You will need to make sure you have 3 packages installed:\n",
    "\n",
    "- `findspark`: `pip install findspark`.\n",
    "- `gensim`: for LDA. Use conda for this. `conda install gensim`. DO NOT use pip for this. You will find pain\n",
    "- `pattern`: for natural language processing, `pip install pattern`.\n",
    "\n",
    "Notice that below I set the full path to Anaconda python. I need to do this as I usually dont put Anaconda on my path, and thus need to provide the full path in the environment variable `PYSPARK_PYTHON`. If Anaconda is on your path, you probably wont need this. In fact, for some of you it might cause Spark to stop working, so comment it out"
   ]
  },
  {
   "cell_type": "code",
   "execution_count": 4,
   "metadata": {
    "collapsed": false
   },
   "outputs": [],
   "source": [
    "import os\n",
    "os.environ['PYSPARK_PYTHON'] = '/anaconda/bin/python'"
   ]
  },
  {
   "cell_type": "markdown",
   "metadata": {},
   "source": [
    "The next cell sets up Spark for you. Your exact incantation might be different. You might not need `findspark`. This is what I had to do.\n",
    "\n",
    "Make sure you are using Spark 1.5.0+ .  On my Mac, I use the JDK (as opposed to the JRE) from Java 8 and Spark 1.5.1."
   ]
  },
  {
   "cell_type": "code",
   "execution_count": 5,
   "metadata": {
    "collapsed": false
   },
   "outputs": [
    {
     "name": "stdout",
     "output_type": "stream",
     "text": [
      "/usr/local/opt/apache-spark/libexec\n"
     ]
    }
   ],
   "source": [
    "import findspark\n",
    "findspark.init()\n",
    "print findspark.find()\n",
    "# Depending on your setup you might have to change this line of code\n",
    "#findspark makes sure I dont need the below on homebrew.\n",
    "#os.environ['SPARK_HOME']=\"/usr/local/Cellar/apache-spark/1.5.1/libexec/\"\n",
    "#the below actually broke my spark, so I removed it. \n",
    "#Depending on how you started the notebook, you might need it.\n",
    "#os.environ['PYSPARK_SUBMIT_ARGS']=\"--master local pyspark --executor-memory 4g\""
   ]
  },
  {
   "cell_type": "markdown",
   "metadata": {},
   "source": [
    "Start up the Spark context. This is what starts java up:"
   ]
  },
  {
   "cell_type": "code",
   "execution_count": 6,
   "metadata": {
    "collapsed": false
   },
   "outputs": [],
   "source": [
    "import pyspark\n",
    "conf = (pyspark.SparkConf()\n",
    "    .setMaster('local')\n",
    "    .setAppName('pyspark')\n",
    "    .set(\"spark.executor.memory\", \"2g\"))\n",
    "sc = pyspark.SparkContext(conf=conf)"
   ]
  },
  {
   "cell_type": "markdown",
   "metadata": {},
   "source": [
    "If you started Spark from a terminal or the ipython notebook from a terminal, you will see all kinds of logging information on the terminal. This information will tell you if something is wrong.\n",
    "\n",
    "We also want to check if the same Python is running on all the child execution processes on your machine/in the cluster. If you did this right the python version printed below from 10 different executors:"
   ]
  },
  {
   "cell_type": "code",
   "execution_count": 60,
   "metadata": {
    "collapsed": false
   },
   "outputs": [
    {
     "data": {
      "text/plain": [
       "['2.7.10 |Anaconda 2.3.0 (x86_64)| (default, Oct 19 2015, 18:31:17) \\n[GCC 4.2.1 (Apple Inc. build 5577)]',\n",
       " '2.7.10 |Anaconda 2.3.0 (x86_64)| (default, Oct 19 2015, 18:31:17) \\n[GCC 4.2.1 (Apple Inc. build 5577)]',\n",
       " '2.7.10 |Anaconda 2.3.0 (x86_64)| (default, Oct 19 2015, 18:31:17) \\n[GCC 4.2.1 (Apple Inc. build 5577)]',\n",
       " '2.7.10 |Anaconda 2.3.0 (x86_64)| (default, Oct 19 2015, 18:31:17) \\n[GCC 4.2.1 (Apple Inc. build 5577)]',\n",
       " '2.7.10 |Anaconda 2.3.0 (x86_64)| (default, Oct 19 2015, 18:31:17) \\n[GCC 4.2.1 (Apple Inc. build 5577)]',\n",
       " '2.7.10 |Anaconda 2.3.0 (x86_64)| (default, Oct 19 2015, 18:31:17) \\n[GCC 4.2.1 (Apple Inc. build 5577)]',\n",
       " '2.7.10 |Anaconda 2.3.0 (x86_64)| (default, Oct 19 2015, 18:31:17) \\n[GCC 4.2.1 (Apple Inc. build 5577)]',\n",
       " '2.7.10 |Anaconda 2.3.0 (x86_64)| (default, Oct 19 2015, 18:31:17) \\n[GCC 4.2.1 (Apple Inc. build 5577)]',\n",
       " '2.7.10 |Anaconda 2.3.0 (x86_64)| (default, Oct 19 2015, 18:31:17) \\n[GCC 4.2.1 (Apple Inc. build 5577)]',\n",
       " '2.7.10 |Anaconda 2.3.0 (x86_64)| (default, Oct 19 2015, 18:31:17) \\n[GCC 4.2.1 (Apple Inc. build 5577)]']"
      ]
     },
     "execution_count": 60,
     "metadata": {},
     "output_type": "execute_result"
    }
   ],
   "source": [
    "import sys\n",
    "rdd = sc.parallelize(xrange(10),10)\n",
    "rdd.map(lambda x: sys.version).collect()"
   ]
  },
  {
   "cell_type": "markdown",
   "metadata": {},
   "source": [
    "ought tomatch the one here:"
   ]
  },
  {
   "cell_type": "code",
   "execution_count": 61,
   "metadata": {
    "collapsed": false
   },
   "outputs": [
    {
     "data": {
      "text/plain": [
       "'2.7.10 |Anaconda 2.3.0 (x86_64)| (default, Oct 19 2015, 18:31:17) \\n[GCC 4.2.1 (Apple Inc. build 5577)]'"
      ]
     },
     "execution_count": 61,
     "metadata": {},
     "output_type": "execute_result"
    }
   ],
   "source": [
    "sys.version"
   ]
  },
  {
   "cell_type": "markdown",
   "metadata": {},
   "source": [
    "### Reading in the data"
   ]
  },
  {
   "cell_type": "markdown",
   "metadata": {},
   "source": [
    "We create a `SQLContext` from our Spark Context so that we can use Spark's dataframe support."
   ]
  },
  {
   "cell_type": "code",
   "execution_count": 8,
   "metadata": {
    "collapsed": true
   },
   "outputs": [],
   "source": [
    "from pyspark.sql import SQLContext\n",
    "sqlsc=SQLContext(sc)"
   ]
  },
  {
   "cell_type": "markdown",
   "metadata": {},
   "source": [
    "The file is available at https://s3.amazonaws.com/cs109-2015/restaurants.jsonl or https://dl.dropboxusercontent.com/u/75194/restaurants.jsonl . Download it to your local machine or onto AWS. You might find the command-line (terminal) programs `wget` or `curl` useful. The file is about 900MB large.\n",
    "\n",
    "We use the SQL Context to read our data file in. The data file is a list of json dictionaries, one per line (thus we gave the file the extension _`.jsonl`_), \n",
    "which each correspond to a row in the dataframe.\n",
    "\n",
    "Copy the file somewhere on your path and read it in like below:"
   ]
  },
  {
   "cell_type": "code",
   "execution_count": 9,
   "metadata": {
    "collapsed": false
   },
   "outputs": [
    {
     "name": "stdout",
     "output_type": "stream",
     "text": [
      "+---------------+------------+--------------------+---------------------+----------+--------------------+-----+--------------------+-------------+--------------------+-----------------+\n",
      "|_corrupt_record|business_avg|         business_id|business_review_count|      date|           review_id|stars|                text|     user_avg|             user_id|user_review_count|\n",
      "+---------------+------------+--------------------+---------------------+----------+--------------------+-----+--------------------+-------------+--------------------+-----------------+\n",
      "|           null|         4.7|mVHrayjG3uZ_RLHkL...|                 10.0|2012-12-01|6w6gMZ3iBLGcUM4RB...|    5|This place was DE...|          5.0|LWbYpcangjBMm4KPx...|              1.0|\n",
      "|           null|         4.7|mVHrayjG3uZ_RLHkL...|                 10.0|2013-03-15|jVVv_DA5mCDB6medi...|    5|Can't miss stop f...|          5.0|m1FpV3EAeggaAdfPx...|              1.0|\n",
      "|           null|         4.7|mVHrayjG3uZ_RLHkL...|                 10.0|2013-03-30|3Es8GsjkssusYgeU6...|    5|This place should...|3.37037037037|8fApIAMHn2MZJFUiC...|             27.0|\n",
      "|           null|         4.7|mVHrayjG3uZ_RLHkL...|                 10.0|2013-10-20|KAkcn7oQP1xX8KsZ-...|    4|This place was ve...|          4.2|uK8tzraOp4M5u3uYr...|              5.0|\n",
      "|           null|         4.7|mVHrayjG3uZ_RLHkL...|                 10.0|2013-11-07|BZNJkkP0bXnwQ2-sC...|    5|Old school.....tr...|          3.0|6wvlM5L4_EroGXbnb...|              8.0|\n",
      "+---------------+------------+--------------------+---------------------+----------+--------------------+-----+--------------------+-------------+--------------------+-----------------+\n",
      "only showing top 5 rows\n",
      "\n"
     ]
    }
   ],
   "source": [
    "revdf = sqlsc.read.json(\"restaurants.jsonl\")\n",
    "revdf.show(5)"
   ]
  },
  {
   "cell_type": "markdown",
   "metadata": {},
   "source": [
    "We look at our data by printing the schema for this table: \n",
    "Spark does this this by sampling some rows for all the columns and seeing the type."
   ]
  },
  {
   "cell_type": "code",
   "execution_count": 11,
   "metadata": {
    "collapsed": false,
    "scrolled": false
   },
   "outputs": [
    {
     "name": "stdout",
     "output_type": "stream",
     "text": [
      "How many reviews do we have? 940600\n",
      "root\n",
      " |-- _corrupt_record: string (nullable = true)\n",
      " |-- business_avg: double (nullable = true)\n",
      " |-- business_id: string (nullable = true)\n",
      " |-- business_review_count: double (nullable = true)\n",
      " |-- date: string (nullable = true)\n",
      " |-- review_id: string (nullable = true)\n",
      " |-- stars: long (nullable = true)\n",
      " |-- text: string (nullable = true)\n",
      " |-- user_avg: double (nullable = true)\n",
      " |-- user_id: string (nullable = true)\n",
      " |-- user_review_count: double (nullable = true)\n",
      "\n"
     ]
    }
   ],
   "source": [
    "#We cache the data to make sure it is only read once from disk\n",
    "revdf.cache()\n",
    "print \"How many reviews do we have?\", revdf.count()\n",
    "revdf.printSchema()"
   ]
  },
  {
   "cell_type": "markdown",
   "metadata": {},
   "source": [
    "We now create a dataframe which has only those restaurants that have more than 10 reviews. The reason to do this is that we'll be gaining information from individual reviews. This information can be quite disparate. And thus we want enough reviews to get some statistically significant middle ground.\n",
    "\n",
    "At this point you might object: isn't the whole point of reviews and recommendations that users are different, so that middle ground is hard to find. In the last homework even our baseline models took user bias into account. \n",
    "\n",
    "Here though our hypothesis is different: we assume that **people will use similar adjectives to describe a good experience, no matter what star rating they give it**. So, we will be ok as long as the definition of \"good\", \"excellent\", \"poor\" takes into account the user bias."
   ]
  },
  {
   "cell_type": "code",
   "execution_count": 12,
   "metadata": {
    "collapsed": false
   },
   "outputs": [],
   "source": [
    "bizcounts=revdf.groupby('business_id').count()\n",
    "bizids = (bizcounts[bizcounts['count'] > 10]\n",
    "          .map(lambda r: r.business_id)\n",
    "          .collect()\n",
    "          )"
   ]
  },
  {
   "cell_type": "code",
   "execution_count": 14,
   "metadata": {
    "collapsed": false
   },
   "outputs": [
    {
     "name": "stdout",
     "output_type": "stream",
     "text": [
      "How many businesses are we left with?  11417\n"
     ]
    }
   ],
   "source": [
    "print \"How many businesses are we left with? \", len(bizids)"
   ]
  },
  {
   "cell_type": "markdown",
   "metadata": {},
   "source": [
    "Notice that the command below creates a new dataframe as dataframes in Spark are immutable. (Remember, in Pandas too, unless we used `inplace=True` we returned a new dataframe from most operations (except queries which returned views))."
   ]
  },
  {
   "cell_type": "code",
   "execution_count": 15,
   "metadata": {
    "collapsed": false
   },
   "outputs": [],
   "source": [
    "revdf_small=revdf[revdf.business_id.isin(bizids)]#creates new dataframe"
   ]
  },
  {
   "cell_type": "markdown",
   "metadata": {},
   "source": [
    "Now we count how many reviews we have left in total across all restaurants."
   ]
  },
  {
   "cell_type": "code",
   "execution_count": 16,
   "metadata": {
    "collapsed": false
   },
   "outputs": [
    {
     "name": "stdout",
     "output_type": "stream",
     "text": [
      "Number of total reviews:  905600\n"
     ]
    }
   ],
   "source": [
    "print \"Number of total reviews: \", revdf_small.count()#actually causes the subselect to happen"
   ]
  },
  {
   "cell_type": "markdown",
   "metadata": {},
   "source": [
    "Remember RDD operations (Dataframes are just a layer over RDD) are lazy in Spark. So what happens here is that the actual subselection only happens on the `.count()`, at which point the data is cached as well. "
   ]
  },
  {
   "cell_type": "markdown",
   "metadata": {},
   "source": [
    "### Sub-sampling the data"
   ]
  },
  {
   "cell_type": "markdown",
   "metadata": {},
   "source": [
    "As you might have noticed, there are almost a million records in this dataframe. Doing our analysis on such a large dataframe might bust past the java heap space on our individual machines. \n",
    "\n",
    "My modus operandi is to always start with a small data set. My code initially tends to almost always be wrong: its much easier to deal with this if you have small datasets. I also like to use functions like `take(5)` in Spark: this gives me a quick sanity check of the output to see if it makes any sense."
   ]
  },
  {
   "cell_type": "markdown",
   "metadata": {},
   "source": [
    "#### 1.1 Create a subsampled-dataframe"
   ]
  },
  {
   "cell_type": "markdown",
   "metadata": {},
   "source": [
    "With this in mind, we'll create a sub-sampled dataframe where we have 8 reviews per restaurant. We create a variable `PER_RESTAURANT_SAMPLES` to store this number."
   ]
  },
  {
   "cell_type": "code",
   "execution_count": 17,
   "metadata": {
    "collapsed": true
   },
   "outputs": [],
   "source": [
    "PER_RESTAURANT_SAMPLES=8"
   ]
  },
  {
   "cell_type": "markdown",
   "metadata": {},
   "source": [
    "Write code that randomly subsamples `PER_RESTAURANT_SAMPLES` reviews for each restaurant. \n",
    "\n",
    "First get a python list of all the review_id's in this smaller sample"
   ]
  },
  {
   "cell_type": "code",
   "execution_count": 19,
   "metadata": {
    "collapsed": false
   },
   "outputs": [],
   "source": [
    "#your code here\n",
    "small_sample=(revdf_small.map(lambda r: (r.business_id, r.review_id))\n",
    "           .map(lambda (x,y): (x,[y]))\n",
    "           .reduceByKey(lambda x,y: x+y)\n",
    "           .flatMap(lambda (x,y): list(np.random.choice(y, size=PER_RESTAURANT_SAMPLES, replace=False)))\n",
    "     ).collect()"
   ]
  },
  {
   "cell_type": "markdown",
   "metadata": {},
   "source": [
    "Then use this smaller sample and the Spark method `isin` to create a smaller Spark dataframe `subdf`."
   ]
  },
  {
   "cell_type": "code",
   "execution_count": 20,
   "metadata": {
    "collapsed": false
   },
   "outputs": [],
   "source": [
    "#your code here\n",
    "subdf=revdf_small[revdf_small.review_id.isin(small_sample)]"
   ]
  },
  {
   "cell_type": "markdown",
   "metadata": {},
   "source": [
    "Lets cache the dataframe and see how many reviews we have."
   ]
  },
  {
   "cell_type": "code",
   "execution_count": 21,
   "metadata": {
    "collapsed": false
   },
   "outputs": [
    {
     "data": {
      "text/plain": [
       "91336"
      ]
     },
     "execution_count": 21,
     "metadata": {},
     "output_type": "execute_result"
    }
   ],
   "source": [
    "subdf.cache()\n",
    "subdf.count()"
   ]
  },
  {
   "cell_type": "markdown",
   "metadata": {},
   "source": [
    "You should have about 91000 reviews."
   ]
  },
  {
   "cell_type": "markdown",
   "metadata": {},
   "source": [
    "### Creating responses"
   ]
  },
  {
   "cell_type": "markdown",
   "metadata": {},
   "source": [
    "#### 1.2 Create a `responses` column to classify reviews as positive or negative"
   ]
  },
  {
   "cell_type": "markdown",
   "metadata": {},
   "source": [
    "Remember how we said that we wanted to take into account the user bias in our measures of whether a review was a \"positive\" review or a \"negative\" review?\n",
    "\n",
    "We can do this by asking if the star rating of a user's review is higher or equal to the user's average rating. This may not be the best choice: I found that users use \"good\" adjectives to describe restaurants below their average rating. Something worth playing with and thinking about later.m\n",
    "\n",
    "Add a new column `responses` to our dataframe (remember this will create a new dataframe in Spark, as opposed to the usual behavior in Pandas, see the docs for `withColumn` method on Spark Dataframes). Assign this new dataframe to the same variable `subdf`.\n",
    "Also store the data from the `responses` column in an extra array `resparray`.\n",
    "\n",
    "The `responses` column will be `true` if the star rating of a user's review is greater than or equal to the user average rating."
   ]
  },
  {
   "cell_type": "code",
   "execution_count": 22,
   "metadata": {
    "collapsed": false
   },
   "outputs": [],
   "source": [
    "#your code here\n",
    "subdf=subdf.withColumn(\"responses\", subdf['stars']>=subdf['user_avg'])\n",
    "resparray=subdf.map(lambda r: 1*(r.responses)).collect()"
   ]
  },
  {
   "cell_type": "markdown",
   "metadata": {},
   "source": [
    "Let's see what our `subdf` looks like. You should see an additional column `responses` with `true`s and `false`s. (Dont get confused with the lower case trues and falses...its Spark's internal representation)."
   ]
  },
  {
   "cell_type": "code",
   "execution_count": 23,
   "metadata": {
    "collapsed": false
   },
   "outputs": [
    {
     "name": "stdout",
     "output_type": "stream",
     "text": [
      "+---------------+-------------+--------------------+---------------------+----------+--------------------+-----+--------------------+------------------+--------------------+-----------------+---------+\n",
      "|_corrupt_record| business_avg|         business_id|business_review_count|      date|           review_id|stars|                text|          user_avg|             user_id|user_review_count|responses|\n",
      "+---------------+-------------+--------------------+---------------------+----------+--------------------+-----+--------------------+------------------+--------------------+-----------------+---------+\n",
      "|           null|3.91666666667|KayYbHCt-RkbGcPdG...|                 12.0|2011-02-27|j8GuxQJ_DQsSfrJNk...|    4|A great townie ba...|3.7307692307699996|JbWnXwjLaO1kncUkQ...|             26.0|     true|\n",
      "|           null|3.91666666667|KayYbHCt-RkbGcPdG...|                 12.0|2011-12-22|UrukGX1emhSRe2fGd...|    3|Good for cheap dr...|3.7368421052599996|bcwr1bFov3PSa1FiG...|             19.0|    false|\n",
      "|           null|3.91666666667|KayYbHCt-RkbGcPdG...|                 12.0|2013-04-29|OZ_2Ss5H2bNxnYEcE...|    5|Awesome drink spe...|     4.66666666667|tnArVArlj5usJLZbq...|              9.0|     true|\n",
      "|           null|3.91666666667|KayYbHCt-RkbGcPdG...|                 12.0|2013-09-17|PUY1KIrW0BY9ENb3b...|    3|Good beer selecti...|               3.0|W_NfPGdpM0286WBDN...|              1.0|     true|\n",
      "|           null|3.91666666667|KayYbHCt-RkbGcPdG...|                 12.0|2014-02-16|0klMyorClST8NYGJq...|    5|Grew up near here...|               5.0|h-A_xNeB_xSbc0psq...|              2.0|     true|\n",
      "+---------------+-------------+--------------------+---------------------+----------+--------------------+-----+--------------------+------------------+--------------------+-----------------+---------+\n",
      "only showing top 5 rows\n",
      "\n"
     ]
    }
   ],
   "source": [
    "subdf.show(5)"
   ]
  },
  {
   "cell_type": "markdown",
   "metadata": {},
   "source": [
    "Let us calculate the prior probability of having positive samples and store it in `priorp`. We'll also calculate `priorn`, the prior probability of having negative samples."
   ]
  },
  {
   "cell_type": "code",
   "execution_count": 24,
   "metadata": {
    "collapsed": false
   },
   "outputs": [
    {
     "data": {
      "text/plain": [
       "(0.61875930629762632, 0.38124069370237368)"
      ]
     },
     "execution_count": 24,
     "metadata": {},
     "output_type": "execute_result"
    }
   ],
   "source": [
    "priorp = np.mean(resparray)\n",
    "priorn = 1 - priorp\n",
    "priorp, priorn"
   ]
  },
  {
   "cell_type": "markdown",
   "metadata": {},
   "source": [
    "### Natural Language processing"
   ]
  },
  {
   "cell_type": "markdown",
   "metadata": {},
   "source": [
    "Our next step is to take the text of the reviews and process this text to extract grammar and semantic meaning from it.\n",
    "\n",
    "This is in general a hard problem. Machine learning models are usually only as good as the features you give them. The principle they follow is: garbage in, garbage out. \n",
    "\n",
    "Parsing text is hard. It used to be that texts in the old days had good grammatical structure, well formed sentences, and so on. With stuff being written online, many rules are broken. So for example I found some reviews with as many as 10 ellipsis dots between words!\n",
    "\n",
    "Still, we shall use some very standard sentence parsing techniques from the python library `pattern` to do our parsing. The reason for this is that our main aim is to extract nouns and adjectives. This is really a first attempt, and if you are doing sentiment analysis or other text analysis on your project you should investigate better, more robust techniques if you need them.\n",
    "\n",
    "We create a list of what we consider punctuation below, and obtain our stopwords from the `sklearn` stopwords list."
   ]
  },
  {
   "cell_type": "code",
   "execution_count": 25,
   "metadata": {
    "collapsed": true
   },
   "outputs": [],
   "source": [
    "from pattern.en import parse\n",
    "from pattern.en import pprint\n",
    "from pattern.vector import stem, PORTER, LEMMA\n",
    "punctuation = list('.,;:!?()[]{}`''\\\"@#$^&*+-|=~_')"
   ]
  },
  {
   "cell_type": "code",
   "execution_count": 26,
   "metadata": {
    "collapsed": true
   },
   "outputs": [],
   "source": [
    "from sklearn.feature_extraction import text \n",
    "stopwords=text.ENGLISH_STOP_WORDS"
   ]
  },
  {
   "cell_type": "markdown",
   "metadata": {},
   "source": [
    "#### Parsing language"
   ]
  },
  {
   "cell_type": "markdown",
   "metadata": {},
   "source": [
    "Pay attention to this function as it provides an example of the kind of cleaning that needs to be done with text. We dont do a particularly sophisticated job here, but its simple and illustrative for the purposes of a homework. You will want to do a more thorough job on your project."
   ]
  },
  {
   "cell_type": "code",
   "execution_count": 27,
   "metadata": {
    "collapsed": true
   },
   "outputs": [],
   "source": [
    "import re\n",
    "regex1=re.compile(r\"\\.{2,}\")\n",
    "regex2=re.compile(r\"\\-{2,}\")"
   ]
  },
  {
   "cell_type": "markdown",
   "metadata": {},
   "source": [
    "Above we compile two regular expressions we will use. The first matched two or more dots in an ellipsis, while the second matches too or more dashes. We'll assume a single dot is a sentence separator while an single dash means a hyphenated word which is important to keep.\n",
    "\n",
    "Note that it is important for us to preserve sentence structure here as we intend to utilize it to extract nouns and adjectives. It might even be better to compare against lists of known nouns and adverbs, but then one might miss grammatical structure in which nouns are used like adjectives and vice versa. Its all worth playing with.\n",
    "\n",
    "The function `get_parts` below takes in an input review and returns a tuple of nouns and adjectives. Each member of the tuple is a list of lists. For instance the first member is a list, whose members are lists of nouns. Each such member is mined from a sentence. Some sentences will not have any representation as they dont pass the battery of conditions we impose below. Indeed if any sentence has no adjectives or no nouns we remove it. The idea eventually is to treat each such sentence as a review, with the nouns used to find the topic (using LDA), and the adjectives used to do sentiment analysis (via Naive Bayes).\n",
    "\n",
    "`get_parts` does the following:\n",
    "\n",
    "- First we substitute anything more than two dots or two dashes by a space so the letters on either side are treated as separate words\n",
    "- Then we use pattern to parse the text into sentences. The sentences are tokenized into words, and lemmatized, which means that we convert words into their basic form, for [example](https://github.com/piskvorky/topic_modeling_tutorial/blob/master/1%20-%20Streamed%20Corpora.ipynb):\n",
    "\n",
    "> \"work\", \"working\", \"works\", \"worked\", \"working\" => same lemma: \"work\"\n",
    "\n",
    "- The words are associated with tags from the [Penn Treebank](http://www.clips.ua.ac.be/pages/mbsp-tags) in the parse process. This enables us to identify parts-of-speech."
   ]
  },
  {
   "cell_type": "code",
   "execution_count": 28,
   "metadata": {
    "collapsed": false
   },
   "outputs": [
    {
     "data": {
      "text/plain": [
       "u'The/DT/B-NP/O/the world/NN/I-NP/O/world is/VBZ/B-VP/O/be the/DT/B-NP/O/the craziest/JJ/I-NP/O/craziest place/NN/I-NP/O/place ././O/O/.\\nI/PRP/B-NP/O/i am/VBP/B-VP/O/be working/VBG/I-VP/O/work hard/RB/B-ADVP/O/hard ././O/O/.'"
      ]
     },
     "execution_count": 28,
     "metadata": {},
     "output_type": "execute_result"
    }
   ],
   "source": [
    "parse(\"The world is the craziest place. I am working hard.\", tokenize=True, lemmata=True)"
   ]
  },
  {
   "cell_type": "markdown",
   "metadata": {},
   "source": [
    "See the page linked above to interpret what the various annotations mean."
   ]
  },
  {
   "cell_type": "markdown",
   "metadata": {},
   "source": [
    "- We then match for adjectives and nouns separately. While doing this we make sure that the word in question is not a stopword, does not start or end with punctuation, or is not a single letter word.\n",
    "- This gives us pairs of lists of nouns and adjectives from each sentence. If any one of these lists in the pair is empty, we throw the sentence away, because we dont have enough information to process the sentence."
   ]
  },
  {
   "cell_type": "code",
   "execution_count": 29,
   "metadata": {
    "collapsed": false
   },
   "outputs": [],
   "source": [
    "def get_parts(thetext):\n",
    "    thetext=re.sub(regex1, ' ', thetext)\n",
    "    thetext=re.sub(regex2, ' ', thetext)\n",
    "    nouns=[]\n",
    "    descriptives=[]\n",
    "    for i,sentence in enumerate(parse(thetext, tokenize=True, lemmata=True).split()):\n",
    "        nouns.append([])\n",
    "        descriptives.append([])\n",
    "        for token in sentence:\n",
    "            #print token\n",
    "            if len(token[4]) >0:\n",
    "                if token[1] in ['JJ', 'JJR', 'JJS']:\n",
    "                    if token[4] in stopwords or token[4][0] in punctuation or token[4][-1] in punctuation or len(token[4])==1:\n",
    "                        continue\n",
    "                    descriptives[i].append(token[4])\n",
    "                elif token[1] in ['NN', 'NNS']:\n",
    "                    if token[4] in stopwords or token[4][0] in punctuation or token[4][-1] in punctuation or len(token[4])==1:\n",
    "                        continue\n",
    "                    nouns[i].append(token[4])\n",
    "    out=zip(nouns, descriptives)\n",
    "    nouns2=[]\n",
    "    descriptives2=[]\n",
    "    for n,d in out:\n",
    "        if len(n)!=0 and len(d)!=0:\n",
    "            nouns2.append(n)\n",
    "            descriptives2.append(d)\n",
    "    return nouns2, descriptives2"
   ]
  },
  {
   "cell_type": "markdown",
   "metadata": {},
   "source": [
    "Here is a diagram that shows the process.\n",
    "\n",
    "<img src=\"nlp.jpg\" width=800 height=500/>\n",
    "\n",
    "Here is a brief toy example to demonstrate how `get_parts` works:"
   ]
  },
  {
   "cell_type": "code",
   "execution_count": 30,
   "metadata": {
    "collapsed": false
   },
   "outputs": [
    {
     "data": {
      "text/plain": [
       "([[u'patio', u'job'], [u'lunch', u'egg']], [[u'perfect'], [u'good', u'great']])"
      ]
     },
     "execution_count": 30,
     "metadata": {},
     "output_type": "execute_result"
    }
   ],
   "source": [
    "get_parts(\"Have had many other items and just love the food. The patio...job was and...perfect. Lunch is good, and the only egg is great\")"
   ]
  },
  {
   "cell_type": "markdown",
   "metadata": {},
   "source": [
    "#### 1.3 Run `get_parts` on the `text` column of the dataframe"
   ]
  },
  {
   "cell_type": "markdown",
   "metadata": {},
   "source": [
    "Use Spark's `map` to run this function on the contents of the text column of every row of the dataframe. Store the lazy RDD in `review_parts`. (This should be one line of code)"
   ]
  },
  {
   "cell_type": "code",
   "execution_count": 31,
   "metadata": {
    "collapsed": false
   },
   "outputs": [],
   "source": [
    "#your code here\n",
    "review_parts=subdf.map(lambda r :get_parts(r.text))"
   ]
  },
  {
   "cell_type": "markdown",
   "metadata": {},
   "source": [
    "We'll `take` the first three to see what our code looks like. This way we dont have to wait for everything to run."
   ]
  },
  {
   "cell_type": "code",
   "execution_count": 32,
   "metadata": {
    "collapsed": false
   },
   "outputs": [
    {
     "data": {
      "text/plain": [
       "[([[u'townie', u'bar', u'food', u'clientele'],\n",
       "   [u'townie',\n",
       "    u'bar',\n",
       "    u'music',\n",
       "    u'place',\n",
       "    u'crowd',\n",
       "    u'hockey',\n",
       "    u'fan',\n",
       "    u'man',\n",
       "    u'shirt',\n",
       "    u'thirtysomething',\n",
       "    u'time',\n",
       "    u'place'],\n",
       "   [u'staff',\n",
       "    u'notch',\n",
       "    u'order',\n",
       "    u'night',\n",
       "    u'waitress',\n",
       "    u'attitude',\n",
       "    u'visit'],\n",
       "   [u'waiter',\n",
       "    u'cardigan',\n",
       "    u'difficulty',\n",
       "    u'quality',\n",
       "    u'article',\n",
       "    u'clothing'],\n",
       "   [u'pizza', u'size', u'cheese', u'garlic', u'flavor', u'sausage'],\n",
       "   [u'pizza', u'thing', u'way', u'grease', u'territory', u'thing'],\n",
       "   [u'mushroom'],\n",
       "   [u'mushroom', u'mushroom'],\n",
       "   [u'mushroom', u'debacle', u'review', u'star'],\n",
       "   [u'advice',\n",
       "    u'place',\n",
       "    u'music',\n",
       "    u'jukebox',\n",
       "    u'food',\n",
       "    u'price',\n",
       "    u'crowd',\n",
       "    u'staff',\n",
       "    u'mushroom',\n",
       "    u'pie',\n",
       "    u'crap']],\n",
       "  [[u'great', u'tasty', u'interesting'],\n",
       "   [u'refreshing', u'mixed', u'older', u'young'],\n",
       "   [u'overwhelming', u'short-staffed', u'positive', u'entire'],\n",
       "   [u'hooded'],\n",
       "   [u'white', u'large', u'flavorful', u'hot'],\n",
       "   [u'overall', u'delicious', u'unbearable', u'worst'],\n",
       "   [u'canned', u'canned'],\n",
       "   [u'worst'],\n",
       "   [u'entire', u'disgusting'],\n",
       "   [u'awesome',\n",
       "    u'random',\n",
       "    u'tasty',\n",
       "    u'great',\n",
       "    u'good',\n",
       "    u'decent',\n",
       "    u'average',\n",
       "    u'inferior']]),\n",
       " ([[u'drink', u'wing', u'special'],\n",
       "   [u'inside', u'bartender', u'job'],\n",
       "   [u'selection', u'alcohol'],\n",
       "   [u'wing', u'salad'],\n",
       "   [u'gluten', u'place', u'lot', u'food', u'sandwich'],\n",
       "   [u'lunch']],\n",
       "  [[u'cheap', u'daily', u'nice'],\n",
       "   [u'like', u'outside', u'friendly', u'good'],\n",
       "   [u'huge'],\n",
       "   [u'good'],\n",
       "   [u'free', u'fried'],\n",
       "   [u'quick']]),\n",
       " ([[u'drink', u'special', u'hour'], [u'wing', u'wing', u'night']],\n",
       "  [[u'awesome', u'happy'], [u'fantastic', u'crispy', u'delicious']])]"
      ]
     },
     "execution_count": 32,
     "metadata": {},
     "output_type": "execute_result"
    }
   ],
   "source": [
    "review_parts.take(3)"
   ]
  },
  {
   "cell_type": "markdown",
   "metadata": {},
   "source": [
    "We use `collect` to collect in a python list all of our results. This is where the computation actually takes place. This function took me between 20-30 mins to run."
   ]
  },
  {
   "cell_type": "code",
   "execution_count": 33,
   "metadata": {
    "collapsed": false
   },
   "outputs": [
    {
     "name": "stdout",
     "output_type": "stream",
     "text": [
      "CPU times: user 6.98 s, sys: 2.65 s, total: 9.63 s\n",
      "Wall time: 19min 17s\n"
     ]
    }
   ],
   "source": [
    "%%time\n",
    "parseout=review_parts.collect()"
   ]
  },
  {
   "cell_type": "markdown",
   "metadata": {},
   "source": [
    "## 2. Getting the nouns and doing LDA"
   ]
  },
  {
   "cell_type": "markdown",
   "metadata": {},
   "source": [
    "We want to find out if a particular sentence of a review talks about the food quality or the decorations, the ambiance, the service, etc. We look at the nouns of the sentence to do this. The nouns are the first elements of all the tuples we created. Remember we get a list of lists of lists from here:"
   ]
  },
  {
   "cell_type": "code",
   "execution_count": 34,
   "metadata": {
    "collapsed": false
   },
   "outputs": [
    {
     "data": {
      "text/plain": [
       "[[[u'townie', u'bar', u'food', u'clientele'],\n",
       "  [u'townie',\n",
       "   u'bar',\n",
       "   u'music',\n",
       "   u'place',\n",
       "   u'crowd',\n",
       "   u'hockey',\n",
       "   u'fan',\n",
       "   u'man',\n",
       "   u'shirt',\n",
       "   u'thirtysomething',\n",
       "   u'time',\n",
       "   u'place'],\n",
       "  [u'staff', u'notch', u'order', u'night', u'waitress', u'attitude', u'visit'],\n",
       "  [u'waiter', u'cardigan', u'difficulty', u'quality', u'article', u'clothing'],\n",
       "  [u'pizza', u'size', u'cheese', u'garlic', u'flavor', u'sausage'],\n",
       "  [u'pizza', u'thing', u'way', u'grease', u'territory', u'thing'],\n",
       "  [u'mushroom'],\n",
       "  [u'mushroom', u'mushroom'],\n",
       "  [u'mushroom', u'debacle', u'review', u'star'],\n",
       "  [u'advice',\n",
       "   u'place',\n",
       "   u'music',\n",
       "   u'jukebox',\n",
       "   u'food',\n",
       "   u'price',\n",
       "   u'crowd',\n",
       "   u'staff',\n",
       "   u'mushroom',\n",
       "   u'pie',\n",
       "   u'crap']],\n",
       " [[u'drink', u'wing', u'special'],\n",
       "  [u'inside', u'bartender', u'job'],\n",
       "  [u'selection', u'alcohol'],\n",
       "  [u'wing', u'salad'],\n",
       "  [u'gluten', u'place', u'lot', u'food', u'sandwich'],\n",
       "  [u'lunch']],\n",
       " [[u'drink', u'special', u'hour'], [u'wing', u'wing', u'night']]]"
      ]
     },
     "execution_count": 34,
     "metadata": {},
     "output_type": "execute_result"
    }
   ],
   "source": [
    "[e[0] for e in parseout[:3]]"
   ]
  },
  {
   "cell_type": "markdown",
   "metadata": {},
   "source": [
    "We flatten the outer list which holds all the lists corresponding to one given review out, because we now want to treat each accepted sentence in a review as a separate mini-review. Why do we want to do this for the nouns?"
   ]
  },
  {
   "cell_type": "markdown",
   "metadata": {},
   "source": [
    "### Why LDA on nouns?"
   ]
  },
  {
   "cell_type": "markdown",
   "metadata": {},
   "source": [
    "We do LDA only on nouns because the thematic signal is clearer, not-adulterated by other parts of speech.\n",
    "\n",
    "But why do we do it at the granularity of the nouns in a sentence?\n",
    "\n",
    "Think about this from the perspective of clustering. The generative model for LDA is one in which a document comes from a mixture of topics. Each topic can be thought of as a cluster. We need some data which has very clear and strong cluster membership to clearly delineate the clusters. Thus we need to treat the text at a granularity where at-least some sentences have strong cluster membership. For a review, for example, some sentences may talk only about food, and some sentences may talk only about service, and its important to have these so that the topics (clusters) can be clearly established. Thus a sentence is a reasonable granularity, while a paragraph may be too big.\n",
    "\n",
    "We use Spark's `flatMap` to do this."
   ]
  },
  {
   "cell_type": "code",
   "execution_count": 35,
   "metadata": {
    "collapsed": false
   },
   "outputs": [
    {
     "data": {
      "text/plain": [
       "[[u'townie', u'bar', u'food', u'clientele'],\n",
       " [u'townie',\n",
       "  u'bar',\n",
       "  u'music',\n",
       "  u'place',\n",
       "  u'crowd',\n",
       "  u'hockey',\n",
       "  u'fan',\n",
       "  u'man',\n",
       "  u'shirt',\n",
       "  u'thirtysomething',\n",
       "  u'time',\n",
       "  u'place'],\n",
       " [u'staff', u'notch', u'order', u'night', u'waitress', u'attitude', u'visit'],\n",
       " [u'waiter', u'cardigan', u'difficulty', u'quality', u'article', u'clothing'],\n",
       " [u'pizza', u'size', u'cheese', u'garlic', u'flavor', u'sausage']]"
      ]
     },
     "execution_count": 35,
     "metadata": {},
     "output_type": "execute_result"
    }
   ],
   "source": [
    "ldadatardd=sc.parallelize([ele[0] for ele in parseout]).flatMap(lambda l: l)\n",
    "ldadatardd.cache()\n",
    "ldadatardd.take(5)"
   ]
  },
  {
   "cell_type": "markdown",
   "metadata": {},
   "source": [
    "#### Creating the vocabulary"
   ]
  },
  {
   "cell_type": "markdown",
   "metadata": {},
   "source": [
    "Now that you have a set of \"documents\" for the LDA, each corresponding to the nouns in a sentence in all the reviews, lets go about compiling the complete vocabulary that these documents use. We need to do this so that we can set up the documents in the form of a corpus, where each document is a sparse vector of the size of the vocabulary, with a number in the slot for the word indicating how many times that word appeared in a document.\n",
    "\n",
    "So the first thing we want to do is to collect all the words. One more flattening does the job but will have duplicates"
   ]
  },
  {
   "cell_type": "code",
   "execution_count": 36,
   "metadata": {
    "collapsed": false
   },
   "outputs": [
    {
     "data": {
      "text/plain": [
       "[u'townie', u'bar', u'food', u'clientele', u'townie']"
      ]
     },
     "execution_count": 36,
     "metadata": {},
     "output_type": "execute_result"
    }
   ],
   "source": [
    "ldadatardd.flatMap(lambda word: word).take(5)"
   ]
  },
  {
   "cell_type": "markdown",
   "metadata": {},
   "source": [
    "Then, in the usual word-count style we reduce to get the word numbers and then just drop these numbers as we dont care for them. We `zipWithIndex` the words to give them an index which we'll use as the place index in the corpus vector."
   ]
  },
  {
   "cell_type": "code",
   "execution_count": 38,
   "metadata": {
    "collapsed": false
   },
   "outputs": [],
   "source": [
    "vocabtups = (ldadatardd.flatMap(lambda word: word)\n",
    "             .map(lambda word: (word, 1))\n",
    "             .reduceByKey(lambda a, b: a + b)\n",
    "             .map(lambda (x,y): x)\n",
    "             .zipWithIndex()\n",
    ").cache()"
   ]
  },
  {
   "cell_type": "markdown",
   "metadata": {},
   "source": [
    "We use Spark's `collectAsMap` to output the vocabulary `vocab` with the words as keys. We also use `map` to invert this dictionary and get `id2word` which maps the index to the word. This dictionary is then used by Gensim."
   ]
  },
  {
   "cell_type": "code",
   "execution_count": 39,
   "metadata": {
    "collapsed": false
   },
   "outputs": [],
   "source": [
    "vocab=vocabtups.collectAsMap()\n",
    "id2word=vocabtups.map(lambda (x,y): (y,x)).collectAsMap()"
   ]
  },
  {
   "cell_type": "code",
   "execution_count": 42,
   "metadata": {
    "collapsed": false
   },
   "outputs": [
    {
     "data": {
      "text/plain": [
       "(u'fawn', u'woody', 5)"
      ]
     },
     "execution_count": 42,
     "metadata": {},
     "output_type": "execute_result"
    }
   ],
   "source": [
    "id2word[0], vocab.keys()[5], vocab[vocab.keys()[5]]"
   ]
  },
  {
   "cell_type": "markdown",
   "metadata": {},
   "source": [
    "The size of our vocabulary:"
   ]
  },
  {
   "cell_type": "code",
   "execution_count": 43,
   "metadata": {
    "collapsed": false
   },
   "outputs": [
    {
     "data": {
      "text/plain": [
       "28937"
      ]
     },
     "execution_count": 43,
     "metadata": {},
     "output_type": "execute_result"
    }
   ],
   "source": [
    "len(vocab.keys())"
   ]
  },
  {
   "cell_type": "markdown",
   "metadata": {},
   "source": [
    "#### 2.1 Create a Corpus in bag of words form"
   ]
  },
  {
   "cell_type": "markdown",
   "metadata": {},
   "source": [
    "Its now your job to create the lazy RDD `documents`.  By lazy we mean that `collect` still needs to be called on it. `documents`  will be a list of lists that reflects the entire set of sentences. Each one of the member lists consists of a set of tuples `(index, count)` where `index` is the index of the corresponding word in the vocabulary and `count` is the number of times it occured in the sentence.\n",
    "\n",
    "`documents` will look something like:\n",
    "\n",
    "```\n",
    "[[(5912, 1), (3809, 1), (14131, 1), (3876, 1)],\n",
    "[(3266, 1), (3652, 1), (11644, 1), (2296, 1), (27516, 1), (8382, 1)],\n",
    " [(17217, 1), (22979, 1), (11210, 1), (18736, 1), (3893, 1), (21307, 1)],\n",
    " ...,\n",
    " [(23980, 1), (24730, 1), (22979, 1), (20012, 1), (11206, 2)]]\n",
    "```"
   ]
  },
  {
   "cell_type": "markdown",
   "metadata": {},
   "source": [
    "Hint: `defaultdict` from the `collections` module might be useful here"
   ]
  },
  {
   "cell_type": "code",
   "execution_count": 44,
   "metadata": {
    "collapsed": false
   },
   "outputs": [],
   "source": [
    "#your code here\n",
    "from collections import defaultdict\n",
    "def tokenzip_mapper(listofwords):\n",
    "    counts=defaultdict(int)\n",
    "    for word in listofwords:\n",
    "        if vocab.has_key(word):\n",
    "            idx=vocab[word]\n",
    "            counts[idx]+=1\n",
    "    return counts.items()\n",
    "documents = (ldadatardd\n",
    "                 .map(tokenzip_mapper)\n",
    "             )"
   ]
  },
  {
   "cell_type": "markdown",
   "metadata": {},
   "source": [
    "We take the first 5 to make sure we got the structure right"
   ]
  },
  {
   "cell_type": "code",
   "execution_count": 45,
   "metadata": {
    "collapsed": false
   },
   "outputs": [
    {
     "data": {
      "text/plain": [
       "[[(21624, 1), (26765, 1), (10038, 1), (25431, 1)],\n",
       " [(22048, 1),\n",
       "  (21863, 1),\n",
       "  (28011, 1),\n",
       "  (26765, 1),\n",
       "  (6513, 1),\n",
       "  (7828, 1),\n",
       "  (20437, 2),\n",
       "  (54, 1),\n",
       "  (25431, 1),\n",
       "  (345, 1),\n",
       "  (18615, 1)],\n",
       " [(3973, 1),\n",
       "  (20968, 1),\n",
       "  (2061, 1),\n",
       "  (22600, 1),\n",
       "  (23481, 1),\n",
       "  (16378, 1),\n",
       "  (19675, 1)],\n",
       " [(16779, 1), (26327, 1), (4061, 1), (26288, 1), (9719, 1), (24861, 1)],\n",
       " [(4263, 1), (17609, 1), (18382, 1), (11473, 1), (124, 1), (18685, 1)]]"
      ]
     },
     "execution_count": 45,
     "metadata": {},
     "output_type": "execute_result"
    }
   ],
   "source": [
    "documents.take(5)"
   ]
  },
  {
   "cell_type": "markdown",
   "metadata": {},
   "source": [
    "And then we `collect` and store in the variable `corpus`."
   ]
  },
  {
   "cell_type": "code",
   "execution_count": 46,
   "metadata": {
    "collapsed": true
   },
   "outputs": [],
   "source": [
    "corpus=documents.collect()"
   ]
  },
  {
   "cell_type": "markdown",
   "metadata": {},
   "source": [
    "### Unsupervised topic extraction with LDA"
   ]
  },
  {
   "cell_type": "markdown",
   "metadata": {},
   "source": [
    "We now run the LDA algorithm on the nouns only. The nouns typically reflect the themes of a review sentence and including other parts of speech adds noise. \n",
    "\n",
    "We'll look for two topics. The thinking is that one topic will pick out the food, while the other one will pick up other stuff about restaurants, such as service or decorations. Of course there will be some mixing and such. The decision is rarely ever completely clean.\n",
    "\n",
    "Remember that LDA is an unsupervised algorithm, so there is no \"performance\" to measure. But we would like the two clusters we are looking for to correspond to our intuition that one should cover the food and one the other qualities of the restaurant. Or something similar.\n",
    "\n",
    "But again remember that there is no reason that this intuition is correct. Just like in the recommender models from the last homework, these clusters are \"latent\" factors. But if they do coincide with topics/classes/clusters in our data, LDA is more useful.\n",
    "\n",
    "We run LDA using a method called \"variational inference\", which can be updated online. We run it in chunks of 20,000 documents, hoping that topics have converged by then. This makes subsequent training faster."
   ]
  },
  {
   "cell_type": "markdown",
   "metadata": {},
   "source": [
    "#### 2.2 Carry out LDA"
   ]
  },
  {
   "cell_type": "code",
   "execution_count": 48,
   "metadata": {
    "collapsed": false
   },
   "outputs": [
    {
     "name": "stdout",
     "output_type": "stream",
     "text": [
      "Couldn't import dot_parser, loading of dot files will not be possible.\n"
     ]
    }
   ],
   "source": [
    "import gensim"
   ]
  },
  {
   "cell_type": "markdown",
   "metadata": {},
   "source": [
    "You will run `gensim.models.ldamodel.LdaModel` on our corpus, setting the `id2word` argument to our `id2word` dictionary. Since we are trying to find two clusters, set `num_topics` to 2. The model is stored in the variable `lda2` (for LDA with two topics).\n",
    "\n",
    "This algorithm, as mentioned above, is online. More information about it can be found [here]( https://radimrehurek.com/gensim/wiki.html#latent-dirichlet-allocation) and at the other `gensim` docs (https://radimrehurek.com/gensim/models/ldamodel.html). Update it in chunks of 20,000 docs (`update_every=1` and `chunksize=20000`), with `passes=1` over the entire corpus\n",
    "\n",
    "The code takes about 2-3 minutes to run on my machine.\n"
   ]
  },
  {
   "cell_type": "code",
   "execution_count": 49,
   "metadata": {
    "collapsed": false
   },
   "outputs": [],
   "source": [
    "#your code here\n",
    "lda2 = gensim.models.ldamodel.LdaModel(corpus, id2word=id2word, num_topics=2, update_every=1, chunksize=20000, passes=1)"
   ]
  },
  {
   "cell_type": "markdown",
   "metadata": {},
   "source": [
    "#### 2.3 Interpret the topics you get with LDA"
   ]
  },
  {
   "cell_type": "markdown",
   "metadata": {},
   "source": [
    "Lets print the topics that the LDA gives us. Notice the two topics are combinations of representative words in the way gensim prints them. You can change print options if you want."
   ]
  },
  {
   "cell_type": "code",
   "execution_count": 50,
   "metadata": {
    "collapsed": false
   },
   "outputs": [
    {
     "data": {
      "text/plain": [
       "[u'0.066*food + 0.054*place + 0.030*service + 0.028*time + 0.024*restaurant + 0.018*menu + 0.016*staff + 0.015*price + 0.012*person + 0.011*table',\n",
       " u'0.022*chicken + 0.018*pizza + 0.018*sauce + 0.016*burger + 0.015*cheese + 0.015*salad + 0.014*sandwich + 0.014*flavor + 0.014*fry + 0.011*dish']"
      ]
     },
     "execution_count": 50,
     "metadata": {},
     "output_type": "execute_result"
    }
   ],
   "source": [
    "lda2.print_topics()"
   ]
  },
  {
   "cell_type": "markdown",
   "metadata": {},
   "source": [
    "We print out some \"documents\" or \"sentences\" from the corpus. The variable we use for iteration is called `bow` for bag-of-words. We use `id2word` to print out the words as well...\n",
    "\n",
    "`get_document_topics(bow)` gives us the two clusters we are looking for, and the probability that the sentence referred to one of the topics or the other."
   ]
  },
  {
   "cell_type": "code",
   "execution_count": 51,
   "metadata": {
    "collapsed": false
   },
   "outputs": [
    {
     "name": "stdout",
     "output_type": "stream",
     "text": [
      "[(21624, 1), (26765, 1), (10038, 1), (25431, 1)]\n",
      "[(0, 0.88666604113445024), (1, 0.11333395886554976)]\n",
      "clientele townie food bar\n",
      "==========================================\n",
      "[(4039, 1)]\n",
      "[(0, 0.74946638169447644), (1, 0.25053361830552362)]\n",
      "lunch\n",
      "==========================================\n",
      "[(27770, 1), (17620, 1), (19354, 1), (9773, 1)]\n",
      "[(0, 0.76244075805710798), (1, 0.2375592419428921)]\n",
      "alexion commercial home-style primantis\n",
      "==========================================\n",
      "[(24163, 1), (6376, 1), (21775, 1), (16848, 1), (23826, 1), (18076, 1)]\n",
      "[(0, 0.9217314966293193), (1, 0.07826850337068067)]\n",
      "business store atm card trouble credit\n",
      "==========================================\n",
      "[(9646, 1)]\n",
      "[(0, 0.7432368753511599), (1, 0.25676312464884016)]\n",
      "breakfast\n",
      "==========================================\n",
      "[(1830, 1)]\n",
      "[(0, 0.32547822061238357), (1, 0.67452177938761637)]\n",
      "coffee\n",
      "==========================================\n",
      "[(10512, 1), (16722, 1), (18499, 1), (25667, 1)]\n",
      "[(0, 0.29780074934960438), (1, 0.70219925065039568)]\n",
      "chunk uniform potato seasoning\n",
      "==========================================\n",
      "[(24761, 1), (2202, 1), (18685, 1), (22614, 1)]\n",
      "[(0, 0.10100944076654104), (1, 0.89899055923345894)]\n",
      "salad extra cheese lettuce\n",
      "==========================================\n",
      "[(22048, 1), (16644, 1), (27622, 1), (973, 1), (23950, 1), (16849, 1), (26491, 1)]\n",
      "[(0, 0.59085037043670319), (1, 0.40914962956329681)]\n",
      "time way cocktail sauce sandwich care server\n",
      "==========================================\n",
      "[(4157, 1)]\n",
      "[(0, 0.7494366022222525), (1, 0.2505633977777475)]\n",
      "gem\n",
      "==========================================\n",
      "[(24761, 1), (26147, 1)]\n",
      "[(0, 0.16724335568209037), (1, 0.83275664431790963)]\n",
      "salad burger\n",
      "==========================================\n",
      "[(14818, 1), (27757, 1), (10038, 2)]\n",
      "[(0, 0.89939239422291806), (1, 0.10060760577708198)]\n",
      "price quantity food\n",
      "==========================================\n",
      "[(22157, 1), (7349, 1)]\n",
      "[(0, 0.51853656186461128), (1, 0.48146343813538878)]\n",
      "course person\n",
      "==========================================\n",
      "[(27627, 1), (28005, 1)]\n",
      "[(0, 0.8323435281674807), (1, 0.16765647183251928)]\n",
      "birthday song\n",
      "==========================================\n",
      "[(14307, 1), (7349, 1)]\n",
      "[(0, 0.83145421912952922), (1, 0.16854578087047078)]\n",
      "table person\n",
      "==========================================\n",
      "[(27482, 1), (22157, 1), (20437, 1)]\n",
      "[(0, 0.6182569357550598), (1, 0.38174306424494014)]\n",
      "tip course place\n",
      "==========================================\n",
      "[(16011, 1), (7263, 1)]\n",
      "[(0, 0.19371735198248138), (1, 0.80628264801751859)]\n",
      "pubgrub wing\n",
      "==========================================\n",
      "[(345, 1), (18122, 1), (28710, 1), (25431, 1)]\n",
      "[(0, 0.89790023577307543), (1, 0.10209976422692443)]\n",
      "crowd waterfront ghetto bar\n",
      "==========================================\n",
      "[(10038, 1)]\n",
      "[(0, 0.74769602838125915), (1, 0.25230397161874091)]\n",
      "food\n",
      "==========================================\n",
      "[(22048, 1), (21919, 1), (903, 1), (7685, 1), (17477, 1)]\n",
      "[(0, 0.91515922855704623), (1, 0.084840771442953808)]\n",
      "time player experience winter game\n",
      "==========================================\n",
      "[(7377, 1), (19076, 1), (6749, 1), (28694, 1)]\n",
      "[(0, 0.49163125193982637), (1, 0.50836874806017363)]\n",
      "menu quesadilla management chicken\n",
      "==========================================\n",
      "[(10038, 1), (167, 1)]\n",
      "[(0, 0.82160079256480145), (1, 0.17839920743519863)]\n",
      "food friend\n",
      "==========================================\n",
      "[(275, 1)]\n",
      "[(0, 0.25036742574279969), (1, 0.74963257425720031)]\n",
      "fry\n",
      "==========================================\n",
      "[(26795, 1), (13023, 1)]\n",
      "[(0, 0.1672683009466438), (1, 0.83273169905335609)]\n",
      "selection beer\n",
      "==========================================\n",
      "[(3691, 1), (2531, 1), (13023, 1)]\n",
      "[(0, 0.29284434918000024), (1, 0.70715565081999976)]\n",
      "appetizer fortune beer\n",
      "==========================================\n",
      "[(26147, 1), (18679, 1)]\n",
      "[(0, 0.47444783127170681), (1, 0.52555216872829313)]\n",
      "burger thing\n",
      "==========================================\n",
      "[(8073, 1), (22614, 1)]\n",
      "[(0, 0.16672354186298408), (1, 0.8332764581370159)]\n",
      "dressing lettuce\n",
      "==========================================\n",
      "[(18853, 1)]\n",
      "[(0, 0.74994719369523621), (1, 0.25005280630476379)]\n",
      "money\n",
      "==========================================\n",
      "[(142, 1)]\n",
      "[(0, 0.74993190406529309), (1, 0.25006809593470691)]\n",
      "service\n",
      "==========================================\n",
      "[(4648, 1), (11633, 1), (10038, 1), (4039, 1)]\n",
      "[(0, 0.89343610315504018), (1, 0.1065638968449597)]\n",
      "restaurant caricature food lunch\n",
      "==========================================\n",
      "[(22860, 1), (4263, 1)]\n",
      "[(0, 0.17743801749949953), (1, 0.8225619825005005)]\n",
      "extra-spicy flavor\n",
      "==========================================\n",
      "[(903, 1)]\n",
      "[(0, 0.74893393756503013), (1, 0.25106606243496982)]\n",
      "experience\n",
      "==========================================\n",
      "[(25730, 1), (27482, 1), (13650, 1), (10466, 1), (4039, 1)]\n",
      "[(0, 0.3480400378768771), (1, 0.6519599621231229)]\n",
      "soup tip tea entree lunch\n",
      "==========================================\n",
      "[(22048, 1), (903, 1)]\n",
      "[(0, 0.83264443554551593), (1, 0.16735556445448405)]\n",
      "time experience\n",
      "==========================================\n",
      "[(23481, 1), (10805, 1)]\n",
      "[(0, 0.78404018335935632), (1, 0.21595981664064365)]\n",
      "order girl\n",
      "==========================================\n",
      "[(24761, 1), (18531, 1), (25431, 1)]\n",
      "[(0, 0.52425174875026215), (1, 0.47574825124973785)]\n",
      "salad item bar\n",
      "==========================================\n",
      "[(27018, 1)]\n",
      "[(0, 0.26175463493304196), (1, 0.73824536506695804)]\n",
      "pie\n",
      "==========================================\n",
      "[(13151, 1), (5579, 1), (17661, 1), (15638, 1), (20687, 1)]\n",
      "[(0, 0.083389402956833017), (1, 0.91661059704316694)]\n",
      "heat broth crab scallop shrimp\n",
      "==========================================\n",
      "[(142, 1)]\n",
      "[(0, 0.74993157416759904), (1, 0.25006842583240102)]\n",
      "service\n",
      "==========================================\n",
      "[(19675, 1), (3543, 1)]\n",
      "[(0, 0.83319087765967892), (1, 0.16680912234032108)]\n",
      "staff room\n",
      "==========================================\n",
      "[(10038, 1)]\n",
      "[(0, 0.74769499872655154), (1, 0.2523050012734484)]\n",
      "food\n",
      "==========================================\n",
      "[(11473, 1), (3543, 1), (7349, 1), (13383, 1)]\n",
      "[(0, 0.70103179432923968), (1, 0.29896820567076038)]\n",
      "pizza room person dining\n",
      "==========================================\n",
      "[(10923, 1), (12887, 1)]\n",
      "[(0, 0.80176961349528908), (1, 0.19823038650471092)]\n",
      "sleeper neighborhood\n",
      "==========================================\n",
      "[(21569, 1)]\n",
      "[(0, 0.25624680288770263), (1, 0.74375319711229737)]\n",
      "squeeze\n",
      "==========================================\n",
      "[(20802, 1), (19675, 1), (142, 1)]\n",
      "[(0, 0.87465058940641371), (1, 0.12534941059358623)]\n",
      "personable staff service\n",
      "==========================================\n",
      "[(26208, 1), (3691, 1), (20587, 1), (4333, 1), (18068, 2), (23481, 1)]\n",
      "[(0, 0.065710008859322322), (1, 0.93428999114067757)]\n",
      "share appetizer ravioli fanatic pumpkin order\n",
      "==========================================\n",
      "[(24186, 1), (22596, 1)]\n",
      "[(0, 0.83325638170881466), (1, 0.16674361829118531)]\n",
      "area patio\n",
      "==========================================\n",
      "[(18165, 1)]\n",
      "[(0, 0.72781448469335164), (1, 0.27218551530664836)]\n",
      "meal\n",
      "==========================================\n",
      "[(706, 1), (17668, 1), (8326, 1), (167, 1), (3820, 1), (9459, 1), (23606, 1), (1336, 2)]\n",
      "[(0, 0.73759825309843707), (1, 0.26240174690156282)]\n",
      "situation chef matter friend deal change steak customer\n",
      "==========================================\n",
      "[(17178, 1), (2307, 1), (903, 1), (27799, 1)]\n",
      "[(0, 0.89970229777380406), (1, 0.10029770222619591)]\n",
      "family year experience review\n",
      "==========================================\n",
      "[(10038, 2)]\n",
      "[(0, 0.83176087284697064), (1, 0.16823912715302936)]\n",
      "food\n",
      "==========================================\n",
      "[(13584, 1), (6169, 1), (7349, 2), (12647, 1)]\n",
      "[(0, 0.6595988273857859), (1, 0.34040117261421415)]\n",
      "idea taste person bud\n",
      "==========================================\n",
      "[(4445, 1), (10038, 1)]\n",
      "[(0, 0.83231850967220833), (1, 0.16768149032779167)]\n",
      "hour food\n",
      "==========================================\n",
      "[(6169, 1), (10038, 1), (903, 1)]\n",
      "[(0, 0.70637587142990721), (1, 0.29362412857009285)]\n",
      "taste food experience\n",
      "==========================================\n",
      "[(6169, 1), (12891, 1), (28079, 1)]\n",
      "[(0, 0.12696316225140275), (1, 0.87303683774859719)]\n",
      "taste provolone stick\n",
      "==========================================\n",
      "[(5718, 1), (4367, 1)]\n",
      "[(0, 0.16933069310147517), (1, 0.83066930689852481)]\n",
      "picture founder\n",
      "==========================================\n",
      "[(8737, 1), (1186, 1), (28251, 1), (7349, 1), (22254, 1)]\n",
      "[(0, 0.89680117230903633), (1, 0.10319882769096361)]\n",
      "biker chorus hit person note\n",
      "==========================================\n",
      "[(1830, 1)]\n",
      "[(0, 0.32554018808977148), (1, 0.67445981191022852)]\n",
      "coffee\n",
      "==========================================\n",
      "[(25172, 1), (14818, 1), (124, 1), (26470, 1), (7263, 1)]\n",
      "[(0, 0.41358536447514399), (1, 0.58641463552485606)]\n",
      "portion price size bit wing\n",
      "==========================================\n",
      "[(4648, 1), (2507, 1), (20437, 1)]\n",
      "[(0, 0.87268216800140186), (1, 0.12731783199859811)]\n",
      "restaurant foot place\n",
      "==========================================\n"
     ]
    }
   ],
   "source": [
    "for bow in corpus[0:900:15]:\n",
    "    print bow\n",
    "    print lda2.get_document_topics(bow)\n",
    "    print \" \".join([id2word[e[0]] for e in bow])\n",
    "    print \"==========================================\""
   ]
  },
  {
   "cell_type": "markdown",
   "metadata": {},
   "source": [
    "Interpret the topic 0 and the topic 1 in the cell below by looking at the probabilities above. Play with changing the stride and limits in the for loop above to get a clear idea of what Topic 0 and Topic 1 correspond to."
   ]
  },
  {
   "cell_type": "markdown",
   "metadata": {},
   "source": [
    "*your answer here*\n",
    "\n",
    "Topic 0 seems to correspond with the place, either the actual location or the experience, while the other topic tends to be about the food. One interesting example though that seems to break the trend is the work pizza, it kind of makes sense since pizza can either be referring to the food or the place, a pizza place. "
   ]
  },
  {
   "cell_type": "markdown",
   "metadata": {},
   "source": [
    "## 3. Supervised sentiment analysis with Naive Bayes"
   ]
  },
  {
   "cell_type": "markdown",
   "metadata": {},
   "source": [
    "Now that we have found the \"topics\" of sentences in all our reviews, we turn our attention to the adjectives in the reviews. \n",
    "\n",
    "Remember that we created a \"responses\" column earlier? What we'll now do is combine all the adjectives in an *entire* review together and use these for sentiment analysis.\n",
    "\n",
    "Typically, such sentiment analysis is done using an external data set such as SentiWordNet. Indeed, such an external analysis typically will perform better, as out positive-negative (1-0) signal is a bit diffuse given the method we used to create it. However, we are trying to learn the techniques here, so it wont hurt us to use our own data set to do this."
   ]
  },
  {
   "cell_type": "markdown",
   "metadata": {},
   "source": [
    "### Getting the adjectives"
   ]
  },
  {
   "cell_type": "markdown",
   "metadata": {},
   "source": [
    "Now that we finished the topic modeling, we go on to do the sentiment analysis of the reviews. The first thing to do is to get the adjectives together. We can create a RDD in the same way that we did for the LDA."
   ]
  },
  {
   "cell_type": "code",
   "execution_count": 52,
   "metadata": {
    "collapsed": false
   },
   "outputs": [
    {
     "data": {
      "text/plain": [
       "[[[u'great', u'tasty', u'interesting'],\n",
       "  [u'refreshing', u'mixed', u'older', u'young'],\n",
       "  [u'overwhelming', u'short-staffed', u'positive', u'entire'],\n",
       "  [u'hooded'],\n",
       "  [u'white', u'large', u'flavorful', u'hot'],\n",
       "  [u'overall', u'delicious', u'unbearable', u'worst'],\n",
       "  [u'canned', u'canned'],\n",
       "  [u'worst'],\n",
       "  [u'entire', u'disgusting'],\n",
       "  [u'awesome',\n",
       "   u'random',\n",
       "   u'tasty',\n",
       "   u'great',\n",
       "   u'good',\n",
       "   u'decent',\n",
       "   u'average',\n",
       "   u'inferior']],\n",
       " [[u'cheap', u'daily', u'nice'],\n",
       "  [u'like', u'outside', u'friendly', u'good'],\n",
       "  [u'huge'],\n",
       "  [u'good'],\n",
       "  [u'free', u'fried'],\n",
       "  [u'quick']],\n",
       " [[u'awesome', u'happy'], [u'fantastic', u'crispy', u'delicious']]]"
      ]
     },
     "execution_count": 52,
     "metadata": {},
     "output_type": "execute_result"
    }
   ],
   "source": [
    "nbdatardd=sc.parallelize([ele[1] for ele in parseout])\n",
    "nbdatardd.cache()\n",
    "nbdatardd.take(3)"
   ]
  },
  {
   "cell_type": "markdown",
   "metadata": {},
   "source": [
    "#### 3.1 Create the vocabulary of adjectives for the Naive Bayes Classifier."
   ]
  },
  {
   "cell_type": "markdown",
   "metadata": {},
   "source": [
    "In analogy with the case of the nouns, create a vocabulary for the adjectives, with the unique adjectives and an index. Store in `advocab` the dictionary with the key the adjective and the value the index."
   ]
  },
  {
   "cell_type": "code",
   "execution_count": 53,
   "metadata": {
    "collapsed": false
   },
   "outputs": [],
   "source": [
    "#your code here\n",
    "adjtups = (nbdatardd.flatMap(lambda l: l)\n",
    "             .flatMap(lambda word: word)\n",
    "             .map(lambda word: (word, 1))\n",
    "             .reduceByKey(lambda a, b: a + b)\n",
    "             .map(lambda (x,y): x)\n",
    "             .zipWithIndex()\n",
    ")\n",
    "adjvocab=adjtups.collectAsMap()"
   ]
  },
  {
   "cell_type": "code",
   "execution_count": 54,
   "metadata": {
    "collapsed": false
   },
   "outputs": [
    {
     "data": {
      "text/plain": [
       "5264"
      ]
     },
     "execution_count": 54,
     "metadata": {},
     "output_type": "execute_result"
    }
   ],
   "source": [
    "adjvocab['delicious']"
   ]
  },
  {
   "cell_type": "code",
   "execution_count": 55,
   "metadata": {
    "collapsed": false
   },
   "outputs": [
    {
     "data": {
      "text/plain": [
       "19938"
      ]
     },
     "execution_count": 55,
     "metadata": {},
     "output_type": "execute_result"
    }
   ],
   "source": [
    "len(adjvocab)"
   ]
  },
  {
   "cell_type": "markdown",
   "metadata": {},
   "source": [
    "### Get the adjective \"features\" and responses, training and test sets"
   ]
  },
  {
   "cell_type": "markdown",
   "metadata": {},
   "source": [
    "There is a slight difference in how we want to deal with the adjective data compared to how we handled the nouns earlier. We want to flatten the list of sentences in a review down to a list of all the adjectives in the review. That is, instead of a list of nouns per sentence of the review, we create a single list of all adjectives for the whole review, summarizing over all its sentences. Then we'll just join these adjectives together into a fake document using whitespace."
   ]
  },
  {
   "cell_type": "code",
   "execution_count": 56,
   "metadata": {
    "collapsed": true
   },
   "outputs": [],
   "source": [
    "import itertools\n",
    "Xarraypre=nbdatardd.map(lambda l: \" \".join(list(itertools.chain.from_iterable(l))))\n",
    "Xarray=Xarraypre.collect()"
   ]
  },
  {
   "cell_type": "markdown",
   "metadata": {},
   "source": [
    "If you did these right, the length of these two arrays below should be equal. And any element of the array ought to be a whitespace separated list of adjectives"
   ]
  },
  {
   "cell_type": "code",
   "execution_count": 58,
   "metadata": {
    "collapsed": false
   },
   "outputs": [
    {
     "name": "stdout",
     "output_type": "stream",
     "text": [
      "91336 91336\n",
      "great tasty interesting refreshing mixed older young overwhelming short-staffed positive entire hooded white large flavorful hot overall delicious unbearable worst canned canned worst entire disgusting awesome random tasty great good decent average inferior\n"
     ]
    }
   ],
   "source": [
    "print  len(Xarray), len(resparray)\n",
    "print Xarray[0]"
   ]
  },
  {
   "cell_type": "markdown",
   "metadata": {},
   "source": [
    "Now we are ready to do train our classifier. As usual, we create a mask to split things into a test and training set."
   ]
  },
  {
   "cell_type": "code",
   "execution_count": 59,
   "metadata": {
    "collapsed": false
   },
   "outputs": [],
   "source": [
    "from sklearn.cross_validation import train_test_split\n",
    "itrain, itest = train_test_split(xrange(len(Xarray)), train_size=0.7)\n",
    "mask=np.ones(len(Xarray), dtype='int')\n",
    "mask[itrain]=1\n",
    "mask[itest]=0\n",
    "mask = (mask==1)"
   ]
  },
  {
   "cell_type": "markdown",
   "metadata": {},
   "source": [
    "Since `Xarray` and `resparray` are regular python arrays output by Spark, we convert them into numpy arrays for use with `sklearn`. "
   ]
  },
  {
   "cell_type": "code",
   "execution_count": 62,
   "metadata": {
    "collapsed": false
   },
   "outputs": [],
   "source": [
    "X=np.array(Xarray)\n",
    "y=np.array(resparray)"
   ]
  },
  {
   "cell_type": "markdown",
   "metadata": {},
   "source": [
    "#### Transforming to Bag-Of-Words representation"
   ]
  },
  {
   "cell_type": "markdown",
   "metadata": {},
   "source": [
    "We use a vectorizer to transform the space separated adjectives we have to a bag-of-words representation. For the case of the nouns we wrote this vectorizer ourselves. For the adjectives we'll use a vectorizer from `sklearn` to do the jon (see lab 10 or hw3, cs109 2013 for examples, and the `CountVectorizer` documentation from `sklearn`). \n",
    "\n",
    "Here is a function which takes a `X-col` of word based documents and uses the vectorizer `vectorizer` to transform them into a feature matrix where the features are the vocabulary. We'll see how to do this in detail in a little bit."
   ]
  },
  {
   "cell_type": "code",
   "execution_count": 63,
   "metadata": {
    "collapsed": true
   },
   "outputs": [],
   "source": [
    "def make_xy(X_col, y_col, vectorizer):\n",
    "    X = vectorizer.fit_transform(X_col)\n",
    "    y = y_col\n",
    "    return X, y"
   ]
  },
  {
   "cell_type": "markdown",
   "metadata": {},
   "source": [
    "### Support code to run a Naive Bayes Classifier."
   ]
  },
  {
   "cell_type": "markdown",
   "metadata": {},
   "source": [
    "Do you remember how, in homework 3 we had an asymmetric classifier and dealt with it by creating ROC curves and picking the threshold on them?\n",
    "\n",
    "The approach was a good one, but we could have improved on it in two ways\n",
    "\n",
    "(a) we could have computed ROC curves on validation folds so that we could have error-bars on the ROC curves, rather than eating up the test set to do model comparison.\n",
    "\n",
    "(b) we had the ability to plug in a different score. We could have directly put in a cost, or another such score in the cross-validation process. Some of the theory behind this is covered in the Bayes 3 lab of lab 9. \n",
    "\n",
    "Here we do have a somewhat asymmetric set. So we'll use a different score, designed to maximize probability instead. In general any score that is convex is ok, as it is then guaranteed to have a global optimum.\n",
    "\n",
    "Instead of using accuracy as our cross-validation metric, we'll use log likelihood instead."
   ]
  },
  {
   "cell_type": "markdown",
   "metadata": {},
   "source": [
    "#### 3.2 Write a custom score function, log-likelihood"
   ]
  },
  {
   "cell_type": "markdown",
   "metadata": {},
   "source": [
    "Using clf.predict_logproba, write a function that computes the log-likelihood of a dataset"
   ]
  },
  {
   "cell_type": "code",
   "execution_count": 65,
   "metadata": {
    "collapsed": true
   },
   "outputs": [],
   "source": [
    "\"\"\"\n",
    "Function\n",
    "--------\n",
    "log_likelihood\n",
    "\n",
    "Compute the log likelihood of a dataset according to \n",
    "a Naive Bayes classifier. \n",
    "The Log Likelihood is defined by\n",
    "\n",
    "L = Sum_positive(logP(positive)) + Sum_negative(logP(negative))\n",
    "\n",
    "Where Sum_positive indicates a sum over all positive reviews, \n",
    "and Sum_negative indicates a sum over negative reviews\n",
    "    \n",
    "Parameters\n",
    "----------\n",
    "clf : Naive Bayes classifier\n",
    "x : (nexample, nfeature) array\n",
    "    The input data\n",
    "y : (nexample) integer array\n",
    "    Whether each review is Fresh\n",
    "\"\"\"\n",
    "#your code here\n",
    "def log_likelihood(clf, x, y):\n",
    "    prob = clf.predict_log_proba(x)\n",
    "    negs = y == 0\n",
    "    posivs = ~negs\n",
    "    return prob[negs, 0].sum() + prob[posivs, 1].sum()"
   ]
  },
  {
   "cell_type": "markdown",
   "metadata": {},
   "source": [
    "#### Cross-Validation"
   ]
  },
  {
   "cell_type": "markdown",
   "metadata": {},
   "source": [
    "Here's a function to estimate the cross-validated value of a scoring function, given a classifier and data. Why are we providing this function?\n",
    "\n",
    "Why not use `do_classify`? Indeed we could, but we also want to set up a parameter for the vectorization pre-processing step. We could use a pipeline for this purpose, and then use `do_classify`.\n",
    "\n",
    "Here we'll have you implement the pipeline yourself, since it has two steps. This way the process of setting up a pipeline becomes "
   ]
  },
  {
   "cell_type": "code",
   "execution_count": 66,
   "metadata": {
    "collapsed": true
   },
   "outputs": [],
   "source": [
    "from sklearn.cross_validation import KFold\n",
    "\n",
    "def cv_score(clf, x, y, score_func, nfold=5):\n",
    "    \"\"\"\n",
    "    Uses 5-fold cross validation to estimate a score of a classifier\n",
    "    \n",
    "    Inputs\n",
    "    ------\n",
    "    clf : Classifier object\n",
    "    x : Input feature vector\n",
    "    y : Input class labels\n",
    "    score_func : Function like log_likelihood, that takes (clf, x, y) as input,\n",
    "                 and returns a score\n",
    "                 \n",
    "    Returns\n",
    "    -------\n",
    "    The average score obtained by splitting (x, y) into 5 folds of training and \n",
    "    test sets, fitting on the training set, and evaluating score_func on the test set\n",
    "    \n",
    "    Examples\n",
    "    cv_score(clf, x, y, log_likelihood)\n",
    "    \"\"\"\n",
    "    result = 0\n",
    "    for train, test in KFold(y.size, nfold): # split data into train/test groups, 5 times\n",
    "        clf.fit(x[train], y[train]) # fit\n",
    "        result += score_func(clf, x[test], y[test]) # evaluate score function on held-out data\n",
    "    return result / nfold # average"
   ]
  },
  {
   "cell_type": "markdown",
   "metadata": {},
   "source": [
    "#### Calibration of a classifier"
   ]
  },
  {
   "cell_type": "markdown",
   "metadata": {},
   "source": [
    "This code is simply lifted from cs109 2013 hw 3 and labs 9 and 10. You always want to check the calibration of a probabilistic classifier:  -- that is, whether a prediction made with a confidence of x% is correct approximately x% of the time. We might say a model is over-confident if the positive fraction is usually closer to 0.5 than expected (that is, there is more uncertainty than the model predicted). Likewise, a model is under-confident if the probabilities are usually further away from 0.5. Here we provide code to make a calibration plot. See Lab 10 for a description of what this code does."
   ]
  },
  {
   "cell_type": "code",
   "execution_count": 67,
   "metadata": {
    "collapsed": true
   },
   "outputs": [],
   "source": [
    "def calibration_plot(clf, xtest, ytest):\n",
    "    prob = clf.predict_proba(xtest)[:, 1]\n",
    "    outcome = ytest\n",
    "    data = pd.DataFrame(dict(prob=prob, outcome=outcome))\n",
    "\n",
    "    #group outcomes into bins of similar probability\n",
    "    bins = np.linspace(0, 1, 20)\n",
    "    cuts = pd.cut(prob, bins)\n",
    "    binwidth = bins[1] - bins[0]\n",
    "    \n",
    "    #freshness ratio and number of examples in each bin\n",
    "    cal = data.groupby(cuts).outcome.agg(['mean', 'count'])\n",
    "    cal['pmid'] = (bins[:-1] + bins[1:]) / 2\n",
    "    cal['sig'] = np.sqrt(cal.pmid * (1 - cal.pmid) / cal['count'])\n",
    "        \n",
    "    #the calibration plot\n",
    "    ax = plt.subplot2grid((3, 1), (0, 0), rowspan=2)\n",
    "    p = plt.errorbar(cal.pmid, cal['mean'], cal['sig'])\n",
    "    plt.plot(cal.pmid, cal.pmid, linestyle='--', lw=1, color='k')\n",
    "    plt.ylabel(\"Empirical P(+)\")\n",
    "    \n",
    "    #the distribution of P(+)\n",
    "    ax = plt.subplot2grid((3, 1), (2, 0), sharex=ax)\n",
    "    \n",
    "    plt.bar(left=cal.pmid - binwidth / 2, height=cal['count'],\n",
    "            width=.95 * (bins[1] - bins[0]),\n",
    "            fc=p[0].get_color())\n",
    "    \n",
    "    plt.xlabel(\"Predicted P(+)\")\n",
    "    plt.ylabel(\"Number\")"
   ]
  },
  {
   "cell_type": "markdown",
   "metadata": {},
   "source": [
    "We are going to use a simple `CountVectorizer` here, along with a Multinomial Naive Bayes classifier."
   ]
  },
  {
   "cell_type": "code",
   "execution_count": 68,
   "metadata": {
    "collapsed": true
   },
   "outputs": [],
   "source": [
    "from sklearn.feature_extraction.text import CountVectorizer\n",
    "from sklearn.naive_bayes import MultinomialNB"
   ]
  },
  {
   "cell_type": "markdown",
   "metadata": {},
   "source": [
    "#### 3.3 Write a custom cross-validation loop"
   ]
  },
  {
   "cell_type": "markdown",
   "metadata": {},
   "source": [
    "Write a cross-validation loop that loops over the `min_df` parameter from `CountVectorizer` and `alpha` from `MultinomialNB`. \n",
    "\n",
    "- Use our adjective vocabulary `adjvocab` as an argument to `sklearn`'s CountVectorizer. This guarantees that the indices we set up will be used.\n",
    "- note that `min_df` affects this vectorization, and thus the vectorizer is created afresh at each point on the cross-validation grid.\n",
    "- `make_xy` thus needs to run for each hyper-parameter combination as well since the features are just slightly different. We use the same mask to make sure we are getting the same training samples\n",
    "- the cross-validation happens inside the `cv_score` function. Think of why this is ok...shouldnt feature creation happen inside the cross-validation loop? (answer this below your code)\n",
    "\n",
    "Output the best `alpha` in the variable `best_alpha` and `best_min_df` in the variable `best_min_df`."
   ]
  },
  {
   "cell_type": "code",
   "execution_count": 70,
   "metadata": {
    "collapsed": false
   },
   "outputs": [],
   "source": [
    "#your code here\n",
    "alphas = [ 0.1, 1, 5, 10, 50]\n",
    "min_dfs = [1e-5, 1e-4, 1e-3, 1e-2, 1e-1, 0.5, 0.9]\n",
    "\n",
    "#Find the best value for alpha and min_df, and the best classifier\n",
    "best_alpha = None\n",
    "best_min_df = None\n",
    "max_loglike = -np.inf\n",
    "\n",
    "for alpha in alphas:\n",
    "    for min_df in min_dfs:         \n",
    "        vectorizer = CountVectorizer(min_df = min_df, vocabulary=adjvocab)       \n",
    "        aX, ay = make_xy(X, y, vectorizer)\n",
    "        tX=aX[mask]\n",
    "        ty=ay[mask]\n",
    "        clf = MultinomialNB(alpha=alpha)\n",
    "        loglike = cv_score(clf, tX, ty, log_likelihood)\n",
    "\n",
    "        if loglike > max_loglike:\n",
    "            max_loglike = loglike\n",
    "            best_alpha, best_min_df = alpha, min_df"
   ]
  },
  {
   "cell_type": "code",
   "execution_count": 71,
   "metadata": {
    "collapsed": false
   },
   "outputs": [
    {
     "name": "stdout",
     "output_type": "stream",
     "text": [
      "alpha: 1.000000\n",
      "min_df: 0.000010\n"
     ]
    }
   ],
   "source": [
    "print \"alpha: %f\" % best_alpha\n",
    "print \"min_df: %f\" % best_min_df"
   ]
  },
  {
   "cell_type": "markdown",
   "metadata": {},
   "source": [
    "*your answer here*\n",
    "\n",
    "Because our data depends on the value of our tuning parameters, we should recreate our training and testing datasets in our search for the optimal parameters. We can think of the cross validation the same as always, for a given dataset we want to build a model that will yield the best predictions, for a given dataset.\n"
   ]
  },
  {
   "cell_type": "markdown",
   "metadata": {},
   "source": [
    "#### 3.4 Test time!"
   ]
  },
  {
   "cell_type": "markdown",
   "metadata": {},
   "source": [
    "Now that you've determined values for alpha and min_df that optimize the cross-validated log-likelihood, repeat the CountVectorization and fitting to train a final classifier with these parameters, and draw calibration plots on the test set. Calculate the accuracy on the training and testing set. Comment on your results and the calibration."
   ]
  },
  {
   "cell_type": "code",
   "execution_count": 72,
   "metadata": {
    "collapsed": false
   },
   "outputs": [
    {
     "name": "stdout",
     "output_type": "stream",
     "text": [
      "Accuracy on training data: 0.75\n",
      "Accuracy on test data:     0.72\n"
     ]
    },
    {
     "name": "stderr",
     "output_type": "stream",
     "text": [
      "//anaconda/lib/python2.7/site-packages/matplotlib/collections.py:590: FutureWarning: elementwise comparison failed; returning scalar instead, but in the future will perform elementwise comparison\n",
      "  if self._edgecolors == str('face'):\n"
     ]
    },
    {
     "data": {
      "image/png": "[encoded data removed]",
      "text/plain": [
       "<matplotlib.figure.Figure at 0x131d9f4d0>"
      ]
     },
     "metadata": {},
     "output_type": "display_data"
    }
   ],
   "source": [
    "#your code here\n",
    "vectorizer = CountVectorizer(min_df=best_min_df, vocabulary=adjvocab)\n",
    "aX, ay = make_xy(X, y, vectorizer)\n",
    "tX=aX[mask]\n",
    "ty=ay[mask]\n",
    "teX=aX[~mask]\n",
    "tey=ay[~mask]\n",
    "\n",
    "clfnew = MultinomialNB(alpha=best_alpha).fit(tX, ty)\n",
    "calibration_plot(clfnew, teX, tey)\n",
    "\n",
    "training_accuracy = clfnew.score(tX, ty)\n",
    "test_accuracy = clfnew.score(teX, tey)\n",
    "\n",
    "print \"Accuracy on training data: %0.2f\" % (training_accuracy)\n",
    "print \"Accuracy on test data:     %0.2f\" % (test_accuracy)"
   ]
  },
  {
   "cell_type": "markdown",
   "metadata": {},
   "source": [
    "*your answer here*\n",
    "\n",
    "This calibration plot looks fairly typical. We can see that the the lower values of the predicted P(+) the actual values are more positive than predicted. A similar, but opposing, trend is found for larger values of predicted P(+). Ideally of course we would have the Empirical match exactly with the Predicted values, which does happen near the middle range of P(+), however this is the typical nature of prediction. \n"
   ]
  },
  {
   "cell_type": "markdown",
   "metadata": {},
   "source": [
    "## 4. Putting topics and sentiment analysis together"
   ]
  },
  {
   "cell_type": "markdown",
   "metadata": {},
   "source": [
    "Now we have probabilities for which topic a sentence belongs to based on the nouns, and we have our Naive Bayes classifier which predicts the sentiment of a whole review based on its adjectives. We need to modify our sentiment analysis to work on the level of single sentences, like we did for the topic modeling. The basic idea is summed up in this diagram:\n",
    "\n",
    "<img src=\"process.jpg\" width=800 height=600/>\n",
    "\n",
    "which shows a bunch of sentiments for the topics T0 and T1."
   ]
  },
  {
   "cell_type": "markdown",
   "metadata": {},
   "source": [
    "### Naive Bayes Probabilities"
   ]
  },
  {
   "cell_type": "markdown",
   "metadata": {},
   "source": [
    "Our naive Bayes classifier computes $P(\\text{class}\\,|\\,\\text{review})$, where the _class_ is \"whether the review is positive or negative\" and the _review_ corresponds to a set of adjectives $\\{\\text{word}_1, \\text{word}_2, \\text{word}_3, ...\\}$. \n",
    "\n",
    "According to Bayes theoreme we have:\n",
    "$$P(\\text{class}\\,|\\,\\text{word}_1, \\text{word}_2, ...) = \\frac{P(\\text{word}_1. \\text{word}_2, ...\\,|\\,\\text{class})P(\\text{class})}{P(\\text{word}_1, \\text{word}_2, ...)}$$\n",
    "\n",
    "Remember that the Naive Bayes classifier assumes conditional independence, i.e. it assumes that \n",
    "\n",
    "$P(\\text{word}_1, \\text{word}_2, ... \\,|\\, \\text{class}) = P(\\text{word_1}\\,|\\,\\text{class}) \\cdot P(\\text{word_2}\\,|\\,\\text{class}) \\cdot ...$. \n",
    "\n",
    "This means that during training our classifier estimated $P(\\text{word}_i \\,|\\, \\text{class})$, so it is pretty straightforward to apply it to the words from single sentences instead of whole reviews. We have to be careful though, because sentences typically are much shorter than whole reviews this means that we need to re-calibrate our conditional probabilities."
   ]
  },
  {
   "cell_type": "markdown",
   "metadata": {},
   "source": [
    "#### 4.1 Obtain log-probabilities for the adjectives"
   ]
  },
  {
   "cell_type": "markdown",
   "metadata": {},
   "source": [
    "We want to compute all the class-conditional probabilities $P(\\text{word}_i \\,|\\, \\text{class})$ for every word in our adjective vocabulary. Use the vectorizer's `get_feature_names` function and the Naive Bayes classifier's `feature_log_prob_` (see the docs for `MultinomialNB`) to create two dictionaries.  One dictionary is for $\\log P(\\text{word}_i \\,|\\, \\text{class}=1)$ and the other is for $\\log P(\\text{word}_i \\,|\\, \\text{class}=0)$. Call the first dictionary `logpositives` and the second one `lognegatives` respectively. Thus the keys are the words themselves and the values are the log-probabilities\n",
    "\n",
    "Note that we are using the logarithm here. As we multiply probabilities, we can run into numerical problems if we have too many factors. In log space multiplications become sums and our computations is more stable. \n"
   ]
  },
  {
   "cell_type": "code",
   "execution_count": 73,
   "metadata": {
    "collapsed": false
   },
   "outputs": [],
   "source": [
    "#your code here\n",
    "logpositives=dict(zip(vectorizer.get_feature_names(),clfnew.feature_log_prob_[1]))\n",
    "lognegatives=dict(zip(vectorizer.get_feature_names(),clfnew.feature_log_prob_[0]))"
   ]
  },
  {
   "cell_type": "markdown",
   "metadata": {},
   "source": [
    "#### 4.2 Write a function to compute the probability that a sentence is positive."
   ]
  },
  {
   "cell_type": "markdown",
   "metadata": {},
   "source": [
    "We've calculated all the $P(\\text{word}_i \\,|\\, \\text{class}=1)$ and $P(\\text{word}_i \\,|\\, \\text{class}=0)$ above as logs. This has been done for all the adjectives in each review.\n",
    "\n",
    "Now we wish to invert the question. We wish to ask: given a sentence $s$ of adjectives (since we stripped the nouns), whats the probability that this sentence is positive? \n",
    "\n",
    "We use Bayes theorem for this (+ is the class):\n",
    "\n",
    "$$P(+\\,|\\,s) = \\frac{P(s\\,|\\,+)P(+)}{P(s\\,|\\,+)P(+) + P(s\\,|\\,-)P(-)}$$\n",
    "\n",
    "Using the Naive Bayes assumption we find for the adjectives $\\text{word}_i$:\n",
    "\n",
    "$$P(s\\,|\\,+) = \\prod_i P(\\text{word}_i\\,|\\,+) \\implies log(P(s\\,|\\,+)) = \\sum_i log(P(\\text{word}_i\\,|\\,+))$$\n",
    "\n",
    "Use these two formulae to write a function `calc_pplus` which takes 5 arguments: a list of adjectives `adjlist` constituting a sentence, a dictionary of logpositives `lp`, a dictionary of lognegatives `ln`, the prior probability of a review being positive `pp`, and the prior probability of a review being negative `pn`; and outputs $P(s\\,|\\,+)$. (The prior probabilities were calculated earlier in this notebook)\n",
    "\n",
    "Here is the spec:\n",
    "`def calc_pplus(adjlist, lp, ln, pp,pn)`"
   ]
  },
  {
   "cell_type": "code",
   "execution_count": 74,
   "metadata": {
    "collapsed": true
   },
   "outputs": [],
   "source": [
    "#your code here\n",
    "def calc_pplus(adjlist, lp, ln, pp,pn):\n",
    "    pos_expsumlog=np.exp(np.sum([lp[a] for a in adj]))\n",
    "    neg_expsumlog=np.exp(np.sum([ln[a] for a in adj]))\n",
    "    pplus=1./(1. + (neg_expsumlog*pn)/(pos_expsumlog*pp))\n",
    "    return pplus"
   ]
  },
  {
   "cell_type": "markdown",
   "metadata": {},
   "source": [
    "#### Compute the topic for a sentence"
   ]
  },
  {
   "cell_type": "markdown",
   "metadata": {},
   "source": [
    "Back to our LDA topics. First we do a sanity check. We obtain all the review ids, and check that the length of the `parseout` array is identical to that of the `reviews` array."
   ]
  },
  {
   "cell_type": "code",
   "execution_count": 75,
   "metadata": {
    "collapsed": true
   },
   "outputs": [],
   "source": [
    "reviews=subdf.map(lambda r: r.review_id).collect()"
   ]
  },
  {
   "cell_type": "code",
   "execution_count": 76,
   "metadata": {
    "collapsed": false
   },
   "outputs": [
    {
     "data": {
      "text/plain": [
       "(91336, 91336)"
      ]
     },
     "execution_count": 76,
     "metadata": {},
     "output_type": "execute_result"
    }
   ],
   "source": [
    "len(parseout),len(reviews)"
   ]
  },
  {
   "cell_type": "markdown",
   "metadata": {},
   "source": [
    "We write a function `choose_topic` which chooses which of the two LDA topics (clusters) we ought to pick for a sentence, given the bag of words for that sentence. This simply uses the higher probability cluster to make a choice. Sometimes `get_document_topics` only outputs one cluster if the probability is overwhelmingly high. So we need to handle this case."
   ]
  },
  {
   "cell_type": "code",
   "execution_count": 80,
   "metadata": {
    "collapsed": true
   },
   "outputs": [],
   "source": [
    "def choose_topic(ldamodel, bow):\n",
    "    tee = lda2.get_document_topics(bow)\n",
    "    if len(tee)==2:\n",
    "        t1,t2=tee\n",
    "        if t2[1] >= t1[1]:#get higher probability topic\n",
    "            topicis=t2[0]\n",
    "        else:\n",
    "            topicis=t1[0]\n",
    "    elif len(tee)==1:#if only one was provided its very high probability. Take it\n",
    "        teetuple=tee[0]\n",
    "        topicis=teetuple[0]\n",
    "    return topicis\n"
   ]
  },
  {
   "cell_type": "markdown",
   "metadata": {},
   "source": [
    "We now combine the functions `calc_pplus` and `choose_topic` in the loop below to obtain the sentence topic and calculate the sentiment of the sentence. Note how we use the length of the noun-list for each review from `parseout` to obtain the appropriate bag-of-words from our corpus. We store our output for each review in a dictionary with keys review-id and values a list of dictionaries, one for each sentence with the topic `topic` of the sentence and the probability `pplus` of it \"being\" or predicting positive. This loop will take a few minutes to run."
   ]
  },
  {
   "cell_type": "code",
   "execution_count": 81,
   "metadata": {
    "collapsed": false
   },
   "outputs": [],
   "source": [
    "counter=0\n",
    "reviewdict={}\n",
    "for i, rid in enumerate(reviews):\n",
    "    rlist=[]\n",
    "    nlist, alist = parseout[i]\n",
    "    ln=len(nlist)\n",
    "    localbow=corpus[counter:counter+ln]\n",
    "    for bow, adj, noun in zip(localbow, alist, nlist):\n",
    "        doc=\" \".join([id2word[e[0]] for e in bow])\n",
    "        pplus=calc_pplus(adj, logpositives, lognegatives, priorp, priorn)\n",
    "        topicis=choose_topic(lda2, bow)\n",
    "        ldict={\"topic\": topicis, 'pplus':pplus}\n",
    "        rlist.append(ldict)\n",
    "    reviewdict[rid]=rlist\n",
    "    counter=counter+ln\n"
   ]
  },
  {
   "cell_type": "markdown",
   "metadata": {},
   "source": [
    "####  Create a dataframe with all of this information"
   ]
  },
  {
   "cell_type": "markdown",
   "metadata": {},
   "source": [
    "We now write some Spark code to combine this dictionary with the original `subdf` dataframe to get a dataframe `completedf` which adds in the individual sentences for each review."
   ]
  },
  {
   "cell_type": "markdown",
   "metadata": {},
   "source": [
    "The function `extendit` takes a row from `subdf`, gets the `review_id`, uses it to lookup the `reviewdict` above, finds the list of sentence dictionaries there, makes a copy of the dictionaries, and augments them with information from `subdf`. So our output is a list of dicts, one for each sentence."
   ]
  },
  {
   "cell_type": "code",
   "execution_count": 82,
   "metadata": {
    "collapsed": true
   },
   "outputs": [],
   "source": [
    "def extendit(row):\n",
    "    outlist=[]\n",
    "    revs=reviewdict[row.review_id]\n",
    "    for r in revs:\n",
    "        r2=r.copy()\n",
    "        r2['business_id']=row.business_id\n",
    "        r2['user_id']=row.user_id\n",
    "        r2['review_id']=row.review_id\n",
    "        r2['stars']=row.stars\n",
    "        r2['user_avg']=row.user_avg\n",
    "        outlist.append(r2)\n",
    "    return outlist\n"
   ]
  },
  {
   "cell_type": "markdown",
   "metadata": {},
   "source": [
    "We use Spark `flatMap` to create a huge list of dictionaries, one per sentence in the review, and then combine these into a Pandas (_not_ Spark) dataframe `completedf`"
   ]
  },
  {
   "cell_type": "code",
   "execution_count": 83,
   "metadata": {
    "collapsed": false
   },
   "outputs": [
    {
     "name": "stdout",
     "output_type": "stream",
     "text": [
      "CPU times: user 18.7 s, sys: 1.25 s, total: 19.9 s\n",
      "Wall time: 20.8 s\n"
     ]
    }
   ],
   "source": [
    "%%time\n",
    "newdfin=subdf.flatMap(lambda r: extendit(r)).cache()"
   ]
  },
  {
   "cell_type": "code",
   "execution_count": 97,
   "metadata": {
    "collapsed": false
   },
   "outputs": [
    {
     "data": {
      "text/plain": [
       "[{'business_id': u'KayYbHCt-RkbGcPdGOThNg',\n",
       "  'pplus': 0.80817464104789138,\n",
       "  'review_id': u'j8GuxQJ_DQsSfrJNkmcACA',\n",
       "  'stars': 4,\n",
       "  'topic': 0,\n",
       "  'user_avg': 3.7307692307699996,\n",
       "  'user_id': u'JbWnXwjLaO1kncUkQOMajg'},\n",
       " {'business_id': u'KayYbHCt-RkbGcPdGOThNg',\n",
       "  'pplus': 0.60998384374948078,\n",
       "  'review_id': u'j8GuxQJ_DQsSfrJNkmcACA',\n",
       "  'stars': 4,\n",
       "  'topic': 0,\n",
       "  'user_avg': 3.7307692307699996,\n",
       "  'user_id': u'JbWnXwjLaO1kncUkQOMajg'}]"
      ]
     },
     "execution_count": 97,
     "metadata": {},
     "output_type": "execute_result"
    }
   ],
   "source": [
    "newdfin.take(2)"
   ]
  },
  {
   "cell_type": "code",
   "execution_count": 84,
   "metadata": {
    "collapsed": false
   },
   "outputs": [
    {
     "name": "stdout",
     "output_type": "stream",
     "text": [
      "CPU times: user 1.03 s, sys: 472 ms, total: 1.5 s\n",
      "Wall time: 52.5 s\n"
     ]
    }
   ],
   "source": [
    "%%time\n",
    "list_of_dicts=newdfin.collect()"
   ]
  },
  {
   "cell_type": "code",
   "execution_count": 85,
   "metadata": {
    "collapsed": false
   },
   "outputs": [
    {
     "data": {
      "text/html": [
       "<div>\n",
       "<table border=\"1\" class=\"dataframe\">\n",
       "  <thead>\n",
       "    <tr style=\"text-align: right;\">\n",
       "      <th></th>\n",
       "      <th>business_id</th>\n",
       "      <th>pplus</th>\n",
       "      <th>review_id</th>\n",
       "      <th>stars</th>\n",
       "      <th>topic</th>\n",
       "      <th>user_avg</th>\n",
       "      <th>user_id</th>\n",
       "    </tr>\n",
       "  </thead>\n",
       "  <tbody>\n",
       "    <tr>\n",
       "      <th>0</th>\n",
       "      <td>KayYbHCt-RkbGcPdGOThNg</td>\n",
       "      <td>0.808175</td>\n",
       "      <td>j8GuxQJ_DQsSfrJNkmcACA</td>\n",
       "      <td>4</td>\n",
       "      <td>0</td>\n",
       "      <td>3.730769</td>\n",
       "      <td>JbWnXwjLaO1kncUkQOMajg</td>\n",
       "    </tr>\n",
       "    <tr>\n",
       "      <th>1</th>\n",
       "      <td>KayYbHCt-RkbGcPdGOThNg</td>\n",
       "      <td>0.609984</td>\n",
       "      <td>j8GuxQJ_DQsSfrJNkmcACA</td>\n",
       "      <td>4</td>\n",
       "      <td>0</td>\n",
       "      <td>3.730769</td>\n",
       "      <td>JbWnXwjLaO1kncUkQOMajg</td>\n",
       "    </tr>\n",
       "    <tr>\n",
       "      <th>2</th>\n",
       "      <td>KayYbHCt-RkbGcPdGOThNg</td>\n",
       "      <td>0.329214</td>\n",
       "      <td>j8GuxQJ_DQsSfrJNkmcACA</td>\n",
       "      <td>4</td>\n",
       "      <td>0</td>\n",
       "      <td>3.730769</td>\n",
       "      <td>JbWnXwjLaO1kncUkQOMajg</td>\n",
       "    </tr>\n",
       "    <tr>\n",
       "      <th>3</th>\n",
       "      <td>KayYbHCt-RkbGcPdGOThNg</td>\n",
       "      <td>0.692530</td>\n",
       "      <td>j8GuxQJ_DQsSfrJNkmcACA</td>\n",
       "      <td>4</td>\n",
       "      <td>0</td>\n",
       "      <td>3.730769</td>\n",
       "      <td>JbWnXwjLaO1kncUkQOMajg</td>\n",
       "    </tr>\n",
       "    <tr>\n",
       "      <th>4</th>\n",
       "      <td>KayYbHCt-RkbGcPdGOThNg</td>\n",
       "      <td>0.760780</td>\n",
       "      <td>j8GuxQJ_DQsSfrJNkmcACA</td>\n",
       "      <td>4</td>\n",
       "      <td>1</td>\n",
       "      <td>3.730769</td>\n",
       "      <td>JbWnXwjLaO1kncUkQOMajg</td>\n",
       "    </tr>\n",
       "  </tbody>\n",
       "</table>\n",
       "</div>"
      ],
      "text/plain": [
       "              business_id     pplus               review_id  stars  topic  user_avg                 user_id\n",
       "0  KayYbHCt-RkbGcPdGOThNg  0.808175  j8GuxQJ_DQsSfrJNkmcACA      4      0  3.730769  JbWnXwjLaO1kncUkQOMajg\n",
       "1  KayYbHCt-RkbGcPdGOThNg  0.609984  j8GuxQJ_DQsSfrJNkmcACA      4      0  3.730769  JbWnXwjLaO1kncUkQOMajg\n",
       "2  KayYbHCt-RkbGcPdGOThNg  0.329214  j8GuxQJ_DQsSfrJNkmcACA      4      0  3.730769  JbWnXwjLaO1kncUkQOMajg\n",
       "3  KayYbHCt-RkbGcPdGOThNg  0.692530  j8GuxQJ_DQsSfrJNkmcACA      4      0  3.730769  JbWnXwjLaO1kncUkQOMajg\n",
       "4  KayYbHCt-RkbGcPdGOThNg  0.760780  j8GuxQJ_DQsSfrJNkmcACA      4      1  3.730769  JbWnXwjLaO1kncUkQOMajg"
      ]
     },
     "execution_count": 85,
     "metadata": {},
     "output_type": "execute_result"
    }
   ],
   "source": [
    "completedf=pd.DataFrame(list_of_dicts)\n",
    "completedf.head()"
   ]
  },
  {
   "cell_type": "markdown",
   "metadata": {},
   "source": [
    "We see this is a bigger dataframe:"
   ]
  },
  {
   "cell_type": "code",
   "execution_count": 86,
   "metadata": {
    "collapsed": false
   },
   "outputs": [
    {
     "data": {
      "text/plain": [
       "(464180, 7)"
      ]
     },
     "execution_count": 86,
     "metadata": {},
     "output_type": "execute_result"
    }
   ],
   "source": [
    "completedf.shape"
   ]
  },
  {
   "cell_type": "markdown",
   "metadata": {},
   "source": [
    "#### 4.3 Get the stats"
   ]
  },
  {
   "cell_type": "markdown",
   "metadata": {},
   "source": [
    "We are now going to group by `review_id` and `topic` to calculate statistics on all the sentences that belong to a particular review, and to a particular topic: \n",
    "\n",
    "`completedf.groupby(['review_id', 'topic'])`\n",
    "\n",
    "For each group in this group-by we will apply a function `get_stats` which takes the group as an argument and returns a one-row dataframe with columns:\n",
    "\n",
    "- `min`: minimum value of column `pplus`\n",
    "- `max`: maximum value of column `pplus`\n",
    "- `rid`: restaurant_id for the review\n",
    "- `uavg`: average user rating for user doing this review\n",
    "- `count`: number of sentences\n",
    "- `var`: variance of column `pplus` calculated with `ddof=1`. If the sample variance is NAN when there is only 1 sentence in a review (which happens quite often) set the variance to 0\n",
    "- `mean`: the mean of the column `pplus`\n",
    "- `stars`: the number of stars for the review.\n",
    "\n",
    "Set the index of this one line dataframe to the restaurant id (`rid`).\n",
    "\n",
    "What this function does is that it gives us review and topic specific statistics, computed on the sentences in the review.\n",
    "\n",
    "The spec of this function is:\n",
    "\n",
    "`def get_stats(group)`"
   ]
  },
  {
   "cell_type": "code",
   "execution_count": 95,
   "metadata": {
    "collapsed": false
   },
   "outputs": [],
   "source": [
    "#your code here\n",
    "#from http://chrisalbon.com/python/pandas_apply_operations_to_groups.html\n",
    "def get_stats(group):\n",
    "    cgrp=group['pplus']\n",
    "    rid=group.business_id.values[0]\n",
    "    uavg=group.user_avg.values[0]\n",
    "    stars=group.stars.values[0]\n",
    "    variance=cgrp.var(ddof=1)\n",
    "    counts=cgrp.count()\n",
    "    if counts==1 and np.isnan(variance):\n",
    "        variance=0.\n",
    "    \n",
    "    return pd.DataFrame([{'min': cgrp.min(), \n",
    "            'max': cgrp.max(),\n",
    "            'rid':rid,\n",
    "            'uavg':uavg,\n",
    "            'stars':stars,\n",
    "            'count': counts,\n",
    "            'var': variance,\n",
    "            'mean': cgrp.mean()}]).set_index('rid')\n"
   ]
  },
  {
   "cell_type": "markdown",
   "metadata": {},
   "source": [
    "We now run the code on the `completedf`. The group-by will automatically concatenate these one-row dataframes for us. This is a slow function, taking about 5 mins on my computer."
   ]
  },
  {
   "cell_type": "code",
   "execution_count": 96,
   "metadata": {
    "collapsed": false
   },
   "outputs": [
    {
     "name": "stdout",
     "output_type": "stream",
     "text": [
      "CPU times: user 4min 32s, sys: 6.62 s, total: 4min 39s\n",
      "Wall time: 4min 43s\n"
     ]
    }
   ],
   "source": [
    "%%time\n",
    "dftouse=completedf.groupby(['review_id', 'topic']).apply(get_stats).reset_index()"
   ]
  },
  {
   "cell_type": "markdown",
   "metadata": {},
   "source": [
    "We can see the shape of `dftouse` and what it looks like."
   ]
  },
  {
   "cell_type": "code",
   "execution_count": 91,
   "metadata": {
    "collapsed": false,
    "scrolled": true
   },
   "outputs": [
    {
     "name": "stdout",
     "output_type": "stream",
     "text": [
      "(147914, 10)\n"
     ]
    },
    {
     "data": {
      "text/html": [
       "<div>\n",
       "<table border=\"1\" class=\"dataframe\">\n",
       "  <thead>\n",
       "    <tr style=\"text-align: right;\">\n",
       "      <th></th>\n",
       "      <th>review_id</th>\n",
       "      <th>topic</th>\n",
       "      <th>rid</th>\n",
       "      <th>count</th>\n",
       "      <th>max</th>\n",
       "      <th>mean</th>\n",
       "      <th>min</th>\n",
       "      <th>stars</th>\n",
       "      <th>uavg</th>\n",
       "      <th>var</th>\n",
       "    </tr>\n",
       "  </thead>\n",
       "  <tbody>\n",
       "    <tr>\n",
       "      <th>0</th>\n",
       "      <td>---sV8KdwfBoDw38KW_WnQ</td>\n",
       "      <td>0</td>\n",
       "      <td>VgLiSW1iGkpzIEXOgvUBEw</td>\n",
       "      <td>5</td>\n",
       "      <td>0.689383</td>\n",
       "      <td>0.558430</td>\n",
       "      <td>0.312919</td>\n",
       "      <td>3</td>\n",
       "      <td>3.285714</td>\n",
       "      <td>0.024112</td>\n",
       "    </tr>\n",
       "    <tr>\n",
       "      <th>1</th>\n",
       "      <td>---sV8KdwfBoDw38KW_WnQ</td>\n",
       "      <td>1</td>\n",
       "      <td>VgLiSW1iGkpzIEXOgvUBEw</td>\n",
       "      <td>5</td>\n",
       "      <td>0.816901</td>\n",
       "      <td>0.554300</td>\n",
       "      <td>0.211441</td>\n",
       "      <td>3</td>\n",
       "      <td>3.285714</td>\n",
       "      <td>0.050309</td>\n",
       "    </tr>\n",
       "    <tr>\n",
       "      <th>2</th>\n",
       "      <td>--0MzHNy7MVBRvZCOAeRPg</td>\n",
       "      <td>0</td>\n",
       "      <td>4gLecengX1JeGILm7DwU3w</td>\n",
       "      <td>3</td>\n",
       "      <td>0.746711</td>\n",
       "      <td>0.574416</td>\n",
       "      <td>0.360240</td>\n",
       "      <td>5</td>\n",
       "      <td>3.829268</td>\n",
       "      <td>0.038655</td>\n",
       "    </tr>\n",
       "    <tr>\n",
       "      <th>3</th>\n",
       "      <td>--0MzHNy7MVBRvZCOAeRPg</td>\n",
       "      <td>1</td>\n",
       "      <td>4gLecengX1JeGILm7DwU3w</td>\n",
       "      <td>6</td>\n",
       "      <td>0.848065</td>\n",
       "      <td>0.657755</td>\n",
       "      <td>0.476156</td>\n",
       "      <td>5</td>\n",
       "      <td>3.829268</td>\n",
       "      <td>0.014583</td>\n",
       "    </tr>\n",
       "    <tr>\n",
       "      <th>4</th>\n",
       "      <td>--2NT40xmHh9oBLumzdjhA</td>\n",
       "      <td>0</td>\n",
       "      <td>4ZZab5hinFzHtj3sE8vQWg</td>\n",
       "      <td>5</td>\n",
       "      <td>0.764218</td>\n",
       "      <td>0.601008</td>\n",
       "      <td>0.337710</td>\n",
       "      <td>2</td>\n",
       "      <td>4.181818</td>\n",
       "      <td>0.026742</td>\n",
       "    </tr>\n",
       "  </tbody>\n",
       "</table>\n",
       "</div>"
      ],
      "text/plain": [
       "                review_id  topic                     rid  count       max      mean       min  stars      uavg       var\n",
       "0  ---sV8KdwfBoDw38KW_WnQ      0  VgLiSW1iGkpzIEXOgvUBEw      5  0.689383  0.558430  0.312919      3  3.285714  0.024112\n",
       "1  ---sV8KdwfBoDw38KW_WnQ      1  VgLiSW1iGkpzIEXOgvUBEw      5  0.816901  0.554300  0.211441      3  3.285714  0.050309\n",
       "2  --0MzHNy7MVBRvZCOAeRPg      0  4gLecengX1JeGILm7DwU3w      3  0.746711  0.574416  0.360240      5  3.829268  0.038655\n",
       "3  --0MzHNy7MVBRvZCOAeRPg      1  4gLecengX1JeGILm7DwU3w      6  0.848065  0.657755  0.476156      5  3.829268  0.014583\n",
       "4  --2NT40xmHh9oBLumzdjhA      0  4ZZab5hinFzHtj3sE8vQWg      5  0.764218  0.601008  0.337710      2  4.181818  0.026742"
      ]
     },
     "execution_count": 91,
     "metadata": {},
     "output_type": "execute_result"
    }
   ],
   "source": [
    "print dftouse.shape\n",
    "dftouse.head()#note not all reviews will have both topics."
   ]
  },
  {
   "cell_type": "markdown",
   "metadata": {},
   "source": [
    "And finally we save it. This ends the Spark part of the homework. Save the csv file, store it somewhere safe first, and only then shut down your Vagrant/AWS cluster/Spark."
   ]
  },
  {
   "cell_type": "code",
   "execution_count": 92,
   "metadata": {
    "collapsed": true
   },
   "outputs": [],
   "source": [
    "dftouse.to_csv(\"dftouse.csv\", index=False)"
   ]
  },
  {
   "cell_type": "markdown",
   "metadata": {},
   "source": [
    "Include `dftouse.csv` in your homework submission. Q5 is in `hw5part2.ipynb`."
   ]
  }
 ],
 "metadata": {
  "kernelspec": {
   "display_name": "Python 2",
   "language": "python",
   "name": "python2"
  },
  "language_info": {
   "codemirror_mode": {
    "name": "ipython",
    "version": 2
   },
   "file_extension": ".py",
   "mimetype": "text/x-python",
   "name": "python",
   "nbconvert_exporter": "python",
   "pygments_lexer": "ipython2",
   "version": "2.7.10"
  }
 },
 "nbformat": 4,
 "nbformat_minor": 0
}
